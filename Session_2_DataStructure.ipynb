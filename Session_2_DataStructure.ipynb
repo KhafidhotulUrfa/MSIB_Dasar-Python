{
  "nbformat": 4,
  "nbformat_minor": 0,
  "metadata": {
    "colab": {
      "provenance": [],
      "include_colab_link": true
    },
    "kernelspec": {
      "name": "python3",
      "display_name": "Python 3"
    },
    "language_info": {
      "name": "python"
    }
  },
  "cells": [
    {
      "cell_type": "markdown",
      "metadata": {
        "id": "view-in-github",
        "colab_type": "text"
      },
      "source": [
        "<a href=\"https://colab.research.google.com/github/urfa10/MSIB_Dasar-Python/blob/main/Session_2_DataStructure.ipynb\" target=\"_parent\"><img src=\"https://colab.research.google.com/assets/colab-badge.svg\" alt=\"Open In Colab\"/></a>"
      ]
    },
    {
      "cell_type": "markdown",
      "source": [
        "# Data Structure"
      ],
      "metadata": {
        "id": "WXpsl6z_Nx3M"
      }
    },
    {
      "cell_type": "markdown",
      "source": [
        "## List"
      ],
      "metadata": {
        "id": "CDK-LDnHN1-A"
      }
    },
    {
      "cell_type": "code",
      "source": [
        "empty_list = []"
      ],
      "metadata": {
        "id": "C-T2RgmyN0_d"
      },
      "execution_count": null,
      "outputs": []
    },
    {
      "cell_type": "code",
      "source": [
        "# list beberapa elemen\n",
        "fruits = ['apple', 'banana', 'orange', 'cherry']\n",
        "fruits"
      ],
      "metadata": {
        "colab": {
          "base_uri": "https://localhost:8080/"
        },
        "id": "WatKsWauOEgH",
        "outputId": "9e68c666-2107-4ac7-9d4b-8d66813daadf"
      },
      "execution_count": null,
      "outputs": [
        {
          "output_type": "execute_result",
          "data": {
            "text/plain": [
              "['apple', 'banana', 'orange', 'cherry']"
            ]
          },
          "metadata": {},
          "execution_count": 2
        }
      ]
    },
    {
      "cell_type": "code",
      "source": [
        "# list dengan berbeda tipe data\n",
        "fruits_stock = ['apple', 20, True, 'banana', 15, False]\n",
        "fruits_stock"
      ],
      "metadata": {
        "colab": {
          "base_uri": "https://localhost:8080/"
        },
        "id": "f5vWHkmWORxy",
        "outputId": "5d9ffeff-b062-4d69-8cd7-cea191b3d27c"
      },
      "execution_count": null,
      "outputs": [
        {
          "output_type": "execute_result",
          "data": {
            "text/plain": [
              "['apple', 20, True, 'banana', 15, False]"
            ]
          },
          "metadata": {},
          "execution_count": 3
        }
      ]
    },
    {
      "cell_type": "code",
      "source": [
        "# list multidimensional\n",
        "makanan = [\n",
        "    ['ayam goreng', 'mie ayam', 'soto ayam'],\n",
        "    ['bakso', 'nugget', ['tepung', 'sapi']]\n",
        "]\n",
        "makanan"
      ],
      "metadata": {
        "colab": {
          "base_uri": "https://localhost:8080/"
        },
        "id": "xPvzZIq5O77q",
        "outputId": "55047e43-afdc-46b3-9d70-0627cd16a300"
      },
      "execution_count": null,
      "outputs": [
        {
          "output_type": "execute_result",
          "data": {
            "text/plain": [
              "[['ayam goreng', 'mie ayam', 'soto ayam'],\n",
              " ['bakso', 'nugget', ['tepung', 'sapi']]]"
            ]
          },
          "metadata": {},
          "execution_count": 4
        }
      ]
    },
    {
      "cell_type": "code",
      "source": [
        "list_minuman = [\n",
        "    ['aqua', 'le minerale', 'ades', 'cleo', ['air kelapa', 'ultra milk']],\n",
        "    ['nescafe', 'good day']\n",
        "]\n",
        "list_minuman"
      ],
      "metadata": {
        "colab": {
          "base_uri": "https://localhost:8080/"
        },
        "id": "wmxR2oIUPbwm",
        "outputId": "7dd9372a-732d-48a8-de3b-d2c33400c124"
      },
      "execution_count": null,
      "outputs": [
        {
          "output_type": "execute_result",
          "data": {
            "text/plain": [
              "[['aqua', 'le minerale', 'ades', 'cleo', ['air kelapa', 'ultra milk']],\n",
              " ['nescafe', 'good day']]"
            ]
          },
          "metadata": {},
          "execution_count": 5
        }
      ]
    },
    {
      "cell_type": "code",
      "source": [
        "print(fruits)"
      ],
      "metadata": {
        "colab": {
          "base_uri": "https://localhost:8080/"
        },
        "id": "3JUdPelvP47D",
        "outputId": "dc9c0d5b-c238-4e60-a0c5-78504eca7b4a"
      },
      "execution_count": null,
      "outputs": [
        {
          "output_type": "stream",
          "name": "stdout",
          "text": [
            "['apple', 'banana', 'orange', 'cherry']\n"
          ]
        }
      ]
    },
    {
      "cell_type": "code",
      "source": [
        "# indeks list\n",
        "fruits[1]"
      ],
      "metadata": {
        "colab": {
          "base_uri": "https://localhost:8080/",
          "height": 36
        },
        "id": "-IpyJ37kQu3i",
        "outputId": "9ae7f8c7-8680-418c-ce7f-b4780b06d8a5"
      },
      "execution_count": null,
      "outputs": [
        {
          "output_type": "execute_result",
          "data": {
            "text/plain": [
              "'banana'"
            ],
            "application/vnd.google.colaboratory.intrinsic+json": {
              "type": "string"
            }
          },
          "metadata": {},
          "execution_count": 7
        }
      ]
    },
    {
      "cell_type": "code",
      "source": [
        "fruits[0]"
      ],
      "metadata": {
        "colab": {
          "base_uri": "https://localhost:8080/",
          "height": 36
        },
        "id": "R4g_cTGWRIuO",
        "outputId": "98d13f9c-4600-44f3-8d41-8bd0bc633218"
      },
      "execution_count": null,
      "outputs": [
        {
          "output_type": "execute_result",
          "data": {
            "text/plain": [
              "'apple'"
            ],
            "application/vnd.google.colaboratory.intrinsic+json": {
              "type": "string"
            }
          },
          "metadata": {},
          "execution_count": 8
        }
      ]
    },
    {
      "cell_type": "code",
      "source": [
        "fruits[3]"
      ],
      "metadata": {
        "colab": {
          "base_uri": "https://localhost:8080/",
          "height": 36
        },
        "id": "IOSJ936vSCqK",
        "outputId": "648873cb-5feb-4b7f-8196-0b92c73e12f4"
      },
      "execution_count": null,
      "outputs": [
        {
          "output_type": "execute_result",
          "data": {
            "text/plain": [
              "'cherry'"
            ],
            "application/vnd.google.colaboratory.intrinsic+json": {
              "type": "string"
            }
          },
          "metadata": {},
          "execution_count": 9
        }
      ]
    },
    {
      "cell_type": "code",
      "source": [
        "fruits[-1]"
      ],
      "metadata": {
        "colab": {
          "base_uri": "https://localhost:8080/",
          "height": 36
        },
        "id": "mLuXUrgwSN3k",
        "outputId": "c92b5fe4-4b61-4abe-90ba-deb64dd96384"
      },
      "execution_count": null,
      "outputs": [
        {
          "output_type": "execute_result",
          "data": {
            "text/plain": [
              "'cherry'"
            ],
            "application/vnd.google.colaboratory.intrinsic+json": {
              "type": "string"
            }
          },
          "metadata": {},
          "execution_count": 10
        }
      ]
    },
    {
      "cell_type": "code",
      "source": [
        "# indeks list multidimensi\n",
        "makanan[0][0]"
      ],
      "metadata": {
        "colab": {
          "base_uri": "https://localhost:8080/",
          "height": 36
        },
        "id": "eC9PbeZiYDgy",
        "outputId": "bcd9adbe-bfd8-4208-eb20-2d6a0e4296ae"
      },
      "execution_count": null,
      "outputs": [
        {
          "output_type": "execute_result",
          "data": {
            "text/plain": [
              "'ayam goreng'"
            ],
            "application/vnd.google.colaboratory.intrinsic+json": {
              "type": "string"
            }
          },
          "metadata": {},
          "execution_count": 11
        }
      ]
    },
    {
      "cell_type": "code",
      "source": [
        "# mengganti data menggunakan indeks\n",
        "fruits[0] = 'watermelon'\n",
        "print(fruits)"
      ],
      "metadata": {
        "colab": {
          "base_uri": "https://localhost:8080/"
        },
        "id": "ztybrIBLSQy7",
        "outputId": "52fe6e47-80a1-46b8-e0dc-4a3734a6f305"
      },
      "execution_count": null,
      "outputs": [
        {
          "output_type": "stream",
          "name": "stdout",
          "text": [
            "['watermelon', 'banana', 'orange', 'cherry']\n"
          ]
        }
      ]
    },
    {
      "cell_type": "code",
      "source": [
        "# mencari indeks\n",
        "fruits.index('orange')"
      ],
      "metadata": {
        "colab": {
          "base_uri": "https://localhost:8080/"
        },
        "id": "LmIacz3tSlFr",
        "outputId": "5aeae32c-8f51-434c-8ca9-42be3acbe6b5"
      },
      "execution_count": null,
      "outputs": [
        {
          "output_type": "execute_result",
          "data": {
            "text/plain": [
              "2"
            ]
          },
          "metadata": {},
          "execution_count": 13
        }
      ]
    },
    {
      "cell_type": "code",
      "source": [
        "# menambahkan elemen ke list\n",
        "fruits.append('grape')"
      ],
      "metadata": {
        "id": "MTbEEYSJS665"
      },
      "execution_count": null,
      "outputs": []
    },
    {
      "cell_type": "code",
      "source": [
        "fruits"
      ],
      "metadata": {
        "colab": {
          "base_uri": "https://localhost:8080/"
        },
        "id": "oxmvomn0TRl1",
        "outputId": "62c1afbe-5d95-4993-8b7d-797a6cd3f0b2"
      },
      "execution_count": null,
      "outputs": [
        {
          "output_type": "execute_result",
          "data": {
            "text/plain": [
              "['watermelon', 'banana', 'orange', 'cherry', 'grape']"
            ]
          },
          "metadata": {},
          "execution_count": 15
        }
      ]
    },
    {
      "cell_type": "code",
      "source": [
        "# menambahkan elemen ke list berdasarkan index\n",
        "fruits.insert(1, 'strawberry')\n",
        "fruits"
      ],
      "metadata": {
        "colab": {
          "base_uri": "https://localhost:8080/"
        },
        "id": "WPyoGnAeTTYs",
        "outputId": "46af9172-4ed7-41d3-e571-85d0961c24b2"
      },
      "execution_count": null,
      "outputs": [
        {
          "output_type": "execute_result",
          "data": {
            "text/plain": [
              "['watermelon', 'strawberry', 'banana', 'orange', 'cherry', 'grape']"
            ]
          },
          "metadata": {},
          "execution_count": 16
        }
      ]
    },
    {
      "cell_type": "code",
      "source": [
        "# menghapus element dalam list\n",
        "fruits.remove('orange')\n",
        "fruits"
      ],
      "metadata": {
        "colab": {
          "base_uri": "https://localhost:8080/"
        },
        "id": "2e2A8T7BTtcp",
        "outputId": "2a8af1ed-4282-4f37-fb19-349f96017207"
      },
      "execution_count": null,
      "outputs": [
        {
          "output_type": "execute_result",
          "data": {
            "text/plain": [
              "['watermelon', 'strawberry', 'banana', 'cherry', 'grape']"
            ]
          },
          "metadata": {},
          "execution_count": 17
        }
      ]
    },
    {
      "cell_type": "code",
      "source": [
        "# menghapus element berdasarkan indeks\n",
        "del fruits[0]\n",
        "fruits"
      ],
      "metadata": {
        "colab": {
          "base_uri": "https://localhost:8080/"
        },
        "id": "8GEOJbbhT7Ki",
        "outputId": "413d4180-e295-4c4f-e894-769f4580107a"
      },
      "execution_count": null,
      "outputs": [
        {
          "output_type": "execute_result",
          "data": {
            "text/plain": [
              "['strawberry', 'banana', 'cherry', 'grape']"
            ]
          },
          "metadata": {},
          "execution_count": 18
        }
      ]
    },
    {
      "cell_type": "code",
      "source": [
        "# Fungsi basic dalam list\n",
        "len(fruits)"
      ],
      "metadata": {
        "colab": {
          "base_uri": "https://localhost:8080/"
        },
        "id": "S4IQVnaZUIDR",
        "outputId": "bf332fef-918c-49de-8636-94bb41fca121"
      },
      "execution_count": null,
      "outputs": [
        {
          "output_type": "execute_result",
          "data": {
            "text/plain": [
              "4"
            ]
          },
          "metadata": {},
          "execution_count": 19
        }
      ]
    },
    {
      "cell_type": "code",
      "source": [
        "fruits.sort()\n",
        "fruits"
      ],
      "metadata": {
        "colab": {
          "base_uri": "https://localhost:8080/"
        },
        "id": "-DgXBXSnVpJB",
        "outputId": "d70bd7b2-a98a-4f28-aa68-872557c34605"
      },
      "execution_count": null,
      "outputs": [
        {
          "output_type": "execute_result",
          "data": {
            "text/plain": [
              "['banana', 'cherry', 'grape', 'strawberry']"
            ]
          },
          "metadata": {},
          "execution_count": 20
        }
      ]
    },
    {
      "cell_type": "code",
      "source": [
        "fruits.append('Banana')\n",
        "fruits.sort()\n",
        "fruits"
      ],
      "metadata": {
        "colab": {
          "base_uri": "https://localhost:8080/"
        },
        "id": "T9rHM306VykD",
        "outputId": "a8241c49-e7c9-491b-aea1-00b64bac5d64"
      },
      "execution_count": null,
      "outputs": [
        {
          "output_type": "execute_result",
          "data": {
            "text/plain": [
              "['Banana', 'banana', 'cherry', 'grape', 'strawberry']"
            ]
          },
          "metadata": {},
          "execution_count": 21
        }
      ]
    },
    {
      "cell_type": "code",
      "source": [
        "fruits.append('Cherry')\n",
        "fruits.sort()\n",
        "fruits"
      ],
      "metadata": {
        "colab": {
          "base_uri": "https://localhost:8080/"
        },
        "id": "l-HMrXKVWCHl",
        "outputId": "6dd90beb-3e19-434e-bdad-5fbfc6fcf919"
      },
      "execution_count": null,
      "outputs": [
        {
          "output_type": "execute_result",
          "data": {
            "text/plain": [
              "['Banana', 'Cherry', 'banana', 'cherry', 'grape', 'strawberry']"
            ]
          },
          "metadata": {},
          "execution_count": 22
        }
      ]
    },
    {
      "cell_type": "code",
      "source": [
        "fruits.reverse()\n",
        "fruits"
      ],
      "metadata": {
        "colab": {
          "base_uri": "https://localhost:8080/"
        },
        "id": "VXzW4DmCWK8i",
        "outputId": "a1e2b013-f65b-47dc-be85-b68b6c7ea4ee"
      },
      "execution_count": null,
      "outputs": [
        {
          "output_type": "execute_result",
          "data": {
            "text/plain": [
              "['strawberry', 'grape', 'cherry', 'banana', 'Cherry', 'Banana']"
            ]
          },
          "metadata": {},
          "execution_count": 23
        }
      ]
    },
    {
      "cell_type": "code",
      "source": [
        "# Slicing\n",
        "numbers = [0, 1, 2, 3, 4, 5, 6, 7, 8, 9]"
      ],
      "metadata": {
        "id": "gCFHc5LFWdo2"
      },
      "execution_count": null,
      "outputs": []
    },
    {
      "cell_type": "code",
      "source": [
        "print(numbers[2:6])\n",
        "print(numbers[1:9])\n",
        "print(numbers[:8])\n",
        "print(numbers[2:])"
      ],
      "metadata": {
        "colab": {
          "base_uri": "https://localhost:8080/"
        },
        "id": "0AfByxSRW_OZ",
        "outputId": "95455ad6-8c05-443d-be14-3ab481e267f5"
      },
      "execution_count": null,
      "outputs": [
        {
          "output_type": "stream",
          "name": "stdout",
          "text": [
            "[2, 3, 4, 5]\n",
            "[1, 2, 3, 4, 5, 6, 7, 8]\n",
            "[0, 1, 2, 3, 4, 5, 6, 7]\n",
            "[2, 3, 4, 5, 6, 7, 8, 9]\n"
          ]
        }
      ]
    },
    {
      "cell_type": "code",
      "source": [
        "# Operasi pada list\n",
        "fruits_1 = ['orange', 'apple', 'grape']\n",
        "fruits_2 = ['watermelon', 'cherry']\n",
        "\n",
        "# Operasi pengabungan\n",
        "total_fruits = fruits_1 + fruits_2\n",
        "print(total_fruits)\n",
        "\n",
        "# Operasi perkalian\n",
        "kali = 2\n",
        "total_fruits = total_fruits * kali\n",
        "print(total_fruits)"
      ],
      "metadata": {
        "colab": {
          "base_uri": "https://localhost:8080/"
        },
        "id": "kcrh6UpoXH4U",
        "outputId": "8e1e5154-e522-4344-cad8-4c0a0dc28d9a"
      },
      "execution_count": null,
      "outputs": [
        {
          "output_type": "stream",
          "name": "stdout",
          "text": [
            "['orange', 'apple', 'grape', 'watermelon', 'cherry']\n",
            "['orange', 'apple', 'grape', 'watermelon', 'cherry', 'orange', 'apple', 'grape', 'watermelon', 'cherry']\n"
          ]
        }
      ]
    },
    {
      "cell_type": "code",
      "source": [
        "# Operasi aritmatika dasar\n",
        "print(max(numbers))\n",
        "print(min(numbers))\n",
        "print(sum(numbers))"
      ],
      "metadata": {
        "colab": {
          "base_uri": "https://localhost:8080/"
        },
        "id": "bGvsuQtxX6gD",
        "outputId": "11c4666a-7ab6-4472-e039-8a3c5087665f"
      },
      "execution_count": null,
      "outputs": [
        {
          "output_type": "stream",
          "name": "stdout",
          "text": [
            "9\n",
            "0\n",
            "45\n"
          ]
        }
      ]
    },
    {
      "cell_type": "code",
      "source": [
        "# Jawaban Challenge dari Firman Wahyudi\n",
        "number = [12, 14, 15, 10, 20]\n",
        "number_tambahan = [0, 8, -3]\n",
        "number = number_tambahan + number\n",
        "max_num = max(number)\n",
        "min_num = min(number)\n",
        "diff = max_num - min_num\n",
        "print('selisih angka terbesar dan terkecil:', diff)\n",
        "filtered_num = number[1:6]\n",
        "duplicate_num = filtered_num * 2\n",
        "print('List number setelah dilakukan operasi:', number)\n",
        "print('Hasil filter elemen ke-2 sampai ke-6:', filtered_num)\n",
        "print('Hasil duplikasi sebanyak 2 kali:', duplicate_num)"
      ],
      "metadata": {
        "colab": {
          "base_uri": "https://localhost:8080/"
        },
        "id": "ygZx8Yz_ZNUU",
        "outputId": "39c742ac-87b7-4f32-c02e-afa7769fb218"
      },
      "execution_count": null,
      "outputs": [
        {
          "output_type": "stream",
          "name": "stdout",
          "text": [
            "selisih angka terbesar dan terkecil: 23\n",
            "List number setelah dilakukan operasi: [0, 8, -3, 12, 14, 15, 10, 20]\n",
            "Hasil filter elemen ke-2 sampai ke-6: [8, -3, 12, 14, 15]\n",
            "Hasil duplikasi sebanyak 2 kali: [8, -3, 12, 14, 15, 8, -3, 12, 14, 15]\n"
          ]
        }
      ]
    },
    {
      "cell_type": "markdown",
      "source": [
        "## Tuple"
      ],
      "metadata": {
        "id": "UsiyLIL2eFHf"
      }
    },
    {
      "cell_type": "code",
      "source": [
        "empty_tuple = ()"
      ],
      "metadata": {
        "id": "LmNeDxjQdcQ2"
      },
      "execution_count": null,
      "outputs": []
    },
    {
      "cell_type": "code",
      "source": [
        "cust_id = ('A1', 'A2', 'A3', 'B1', 'B2')\n",
        "print(cust_id)"
      ],
      "metadata": {
        "colab": {
          "base_uri": "https://localhost:8080/"
        },
        "id": "LkjtzaLKjUMX",
        "outputId": "79b95109-369f-4d42-8c4c-d3f1445d5885"
      },
      "execution_count": null,
      "outputs": [
        {
          "output_type": "stream",
          "name": "stdout",
          "text": [
            "('A1', 'A2', 'A3', 'B1', 'B2')\n"
          ]
        }
      ]
    },
    {
      "cell_type": "code",
      "source": [
        "# akses element\n",
        "cust_id[-1]"
      ],
      "metadata": {
        "colab": {
          "base_uri": "https://localhost:8080/",
          "height": 36
        },
        "id": "0T7uCzT7jnGA",
        "outputId": "26a598c5-5110-4c50-f77a-6c8a16d920fb"
      },
      "execution_count": null,
      "outputs": [
        {
          "output_type": "execute_result",
          "data": {
            "text/plain": [
              "'B2'"
            ],
            "application/vnd.google.colaboratory.intrinsic+json": {
              "type": "string"
            }
          },
          "metadata": {},
          "execution_count": 31
        }
      ]
    },
    {
      "cell_type": "code",
      "source": [
        "# menambahkan element baru\n",
        "cust_id_baru = ('C1', 'C2')\n",
        "cust_id = cust_id + cust_id_baru\n",
        "print(cust_id)"
      ],
      "metadata": {
        "colab": {
          "base_uri": "https://localhost:8080/"
        },
        "id": "DiYs_YViju2O",
        "outputId": "b26e04bc-9a26-498b-b331-4abc0c93df18"
      },
      "execution_count": null,
      "outputs": [
        {
          "output_type": "stream",
          "name": "stdout",
          "text": [
            "('A1', 'A2', 'A3', 'B1', 'B2', 'C1', 'C2')\n"
          ]
        }
      ]
    },
    {
      "cell_type": "code",
      "source": [
        "# fungsi untuk tuple\n",
        "len(cust_id)"
      ],
      "metadata": {
        "colab": {
          "base_uri": "https://localhost:8080/"
        },
        "id": "Bke-djxjkCXd",
        "outputId": "210d9c88-1235-4116-90ba-c263cf398d28"
      },
      "execution_count": null,
      "outputs": [
        {
          "output_type": "execute_result",
          "data": {
            "text/plain": [
              "7"
            ]
          },
          "metadata": {},
          "execution_count": 33
        }
      ]
    },
    {
      "cell_type": "code",
      "source": [
        "cust_id.count('A1')"
      ],
      "metadata": {
        "colab": {
          "base_uri": "https://localhost:8080/"
        },
        "id": "f-NYKhhekL_Y",
        "outputId": "b958ed95-4b86-4d5e-b139-af62f9539cf8"
      },
      "execution_count": null,
      "outputs": [
        {
          "output_type": "execute_result",
          "data": {
            "text/plain": [
              "1"
            ]
          },
          "metadata": {},
          "execution_count": 34
        }
      ]
    },
    {
      "cell_type": "code",
      "source": [
        "cust_id.index('C1')"
      ],
      "metadata": {
        "colab": {
          "base_uri": "https://localhost:8080/"
        },
        "id": "xWExvpU7kzNN",
        "outputId": "871f44a3-6bec-4104-aba9-212f64d31f1c"
      },
      "execution_count": null,
      "outputs": [
        {
          "output_type": "execute_result",
          "data": {
            "text/plain": [
              "5"
            ]
          },
          "metadata": {},
          "execution_count": 35
        }
      ]
    },
    {
      "cell_type": "code",
      "source": [
        "# slicing\n",
        "cust_id[:5]"
      ],
      "metadata": {
        "colab": {
          "base_uri": "https://localhost:8080/"
        },
        "id": "bC_who5Ck_MX",
        "outputId": "5f327573-4cb2-439a-a2e4-3a60d4c94070"
      },
      "execution_count": null,
      "outputs": [
        {
          "output_type": "execute_result",
          "data": {
            "text/plain": [
              "('A1', 'A2', 'A3', 'B1', 'B2')"
            ]
          },
          "metadata": {},
          "execution_count": 36
        }
      ]
    },
    {
      "cell_type": "markdown",
      "source": [
        "## Dictionary"
      ],
      "metadata": {
        "id": "woAi-PGjlsfN"
      }
    },
    {
      "cell_type": "code",
      "source": [
        "empty_dictionary = {}"
      ],
      "metadata": {
        "id": "DwXQ9chjlMnx"
      },
      "execution_count": null,
      "outputs": []
    },
    {
      "cell_type": "code",
      "source": [
        "fruits_stock = {\n",
        "    'apple': 50,\n",
        "    'watermelon': 100,\n",
        "    'cherry': 15,\n",
        "    'orange': 8\n",
        "}\n",
        "fruits_stock"
      ],
      "metadata": {
        "colab": {
          "base_uri": "https://localhost:8080/"
        },
        "id": "UszJJdygly5r",
        "outputId": "636d8939-b491-487d-9e51-e279c05140a2"
      },
      "execution_count": null,
      "outputs": [
        {
          "output_type": "execute_result",
          "data": {
            "text/plain": [
              "{'apple': 50, 'watermelon': 100, 'cherry': 15, 'orange': 8}"
            ]
          },
          "metadata": {},
          "execution_count": 38
        }
      ]
    },
    {
      "cell_type": "code",
      "source": [
        "customer = {\n",
        "    'id': ['A1', 'A2'],\n",
        "    'nama': ['Budi', 'Andi'],\n",
        "    'umur': [15, 14]\n",
        "}\n",
        "customer"
      ],
      "metadata": {
        "colab": {
          "base_uri": "https://localhost:8080/"
        },
        "id": "e_7_V2kxmcp3",
        "outputId": "94821ef0-116c-44f7-9864-02f8dfc9550a"
      },
      "execution_count": null,
      "outputs": [
        {
          "output_type": "execute_result",
          "data": {
            "text/plain": [
              "{'id': ['A1', 'A2'], 'nama': ['Budi', 'Andi'], 'umur': [15, 14]}"
            ]
          },
          "metadata": {},
          "execution_count": 39
        }
      ]
    },
    {
      "cell_type": "code",
      "source": [
        "customer_1 = {\n",
        "    'nama': 'Anton',\n",
        "    'hobi': ['berenang', 'main game', 'belajar python']\n",
        "}\n",
        "customer_1"
      ],
      "metadata": {
        "colab": {
          "base_uri": "https://localhost:8080/"
        },
        "id": "AMnCJs4rm7yE",
        "outputId": "9b2e30f7-811f-49da-849d-20ed9ce037bb"
      },
      "execution_count": null,
      "outputs": [
        {
          "output_type": "execute_result",
          "data": {
            "text/plain": [
              "{'nama': 'Anton', 'hobi': ['berenang', 'main game', 'belajar python']}"
            ]
          },
          "metadata": {},
          "execution_count": 40
        }
      ]
    },
    {
      "cell_type": "code",
      "source": [
        "# Mengakses dictionary\n",
        "fruits_stock['orange']"
      ],
      "metadata": {
        "colab": {
          "base_uri": "https://localhost:8080/"
        },
        "id": "Z5s1MB5CnQkg",
        "outputId": "c3136fc7-c1a2-4d1f-a372-1db960c95411"
      },
      "execution_count": null,
      "outputs": [
        {
          "output_type": "execute_result",
          "data": {
            "text/plain": [
              "8"
            ]
          },
          "metadata": {},
          "execution_count": 41
        }
      ]
    },
    {
      "cell_type": "code",
      "source": [
        "fruits_stock['orange'] = 50\n",
        "fruits_stock"
      ],
      "metadata": {
        "colab": {
          "base_uri": "https://localhost:8080/"
        },
        "id": "SLXstosknf_K",
        "outputId": "377f1296-4f84-4f93-8009-a85209f582c1"
      },
      "execution_count": null,
      "outputs": [
        {
          "output_type": "execute_result",
          "data": {
            "text/plain": [
              "{'apple': 50, 'watermelon': 100, 'cherry': 15, 'orange': 50}"
            ]
          },
          "metadata": {},
          "execution_count": 42
        }
      ]
    },
    {
      "cell_type": "code",
      "source": [
        "customer['nama'][0]"
      ],
      "metadata": {
        "colab": {
          "base_uri": "https://localhost:8080/",
          "height": 36
        },
        "id": "k-9ul2ZXn5nW",
        "outputId": "136e2652-46f5-4ce4-9c03-0c91b82d1b84"
      },
      "execution_count": null,
      "outputs": [
        {
          "output_type": "execute_result",
          "data": {
            "text/plain": [
              "'Budi'"
            ],
            "application/vnd.google.colaboratory.intrinsic+json": {
              "type": "string"
            }
          },
          "metadata": {},
          "execution_count": 43
        }
      ]
    },
    {
      "cell_type": "code",
      "source": [
        "# Jawaban dari sanjaya wisnu\n",
        "customers = {\n",
        "    'id' : ['C1', 'C2', 'C3'],\n",
        "    'nama': ['Adi', 'Budi', 'Dani'],\n",
        "    'umur': [25, 19, 30]\n",
        "}\n",
        "\n",
        "print(customers['nama'][0])\n",
        "print(customers['umur'])\n",
        "print(customers['id'][1])"
      ],
      "metadata": {
        "colab": {
          "base_uri": "https://localhost:8080/"
        },
        "id": "VTkHO66ioGPw",
        "outputId": "591a9485-c419-41f4-90b7-369819875757"
      },
      "execution_count": null,
      "outputs": [
        {
          "output_type": "stream",
          "name": "stdout",
          "text": [
            "Adi\n",
            "[25, 19, 30]\n",
            "C2\n"
          ]
        }
      ]
    },
    {
      "cell_type": "code",
      "source": [
        "# Menghapus key-value\n",
        "del fruits_stock['cherry']\n",
        "print(fruits_stock)"
      ],
      "metadata": {
        "colab": {
          "base_uri": "https://localhost:8080/"
        },
        "id": "ehLZL3jNrEh-",
        "outputId": "509917cc-8f47-444b-f7b9-3c12df988073"
      },
      "execution_count": null,
      "outputs": [
        {
          "output_type": "stream",
          "name": "stdout",
          "text": [
            "{'apple': 50, 'watermelon': 100, 'orange': 50}\n"
          ]
        }
      ]
    },
    {
      "cell_type": "code",
      "source": [
        "fruits_stock.get('watermelon')"
      ],
      "metadata": {
        "colab": {
          "base_uri": "https://localhost:8080/"
        },
        "id": "yUWe7h69rthH",
        "outputId": "b7168f54-2796-4d10-a680-ef1c10ae11ae"
      },
      "execution_count": null,
      "outputs": [
        {
          "output_type": "execute_result",
          "data": {
            "text/plain": [
              "100"
            ]
          },
          "metadata": {},
          "execution_count": 46
        }
      ]
    },
    {
      "cell_type": "code",
      "source": [
        "# Akses seluruh keys\n",
        "list(fruits_stock.keys())"
      ],
      "metadata": {
        "colab": {
          "base_uri": "https://localhost:8080/"
        },
        "id": "jdjTk_Ger9T8",
        "outputId": "ae62237d-7671-4b6d-934b-205dfae072a0"
      },
      "execution_count": null,
      "outputs": [
        {
          "output_type": "execute_result",
          "data": {
            "text/plain": [
              "['apple', 'watermelon', 'orange']"
            ]
          },
          "metadata": {},
          "execution_count": 47
        }
      ]
    },
    {
      "cell_type": "code",
      "source": [
        "# Akses seluruh values\n",
        "list(fruits_stock.values())"
      ],
      "metadata": {
        "colab": {
          "base_uri": "https://localhost:8080/"
        },
        "id": "WhddLGiNsIg6",
        "outputId": "25e8747d-8337-4ed4-fb27-39bf9f2e86ec"
      },
      "execution_count": null,
      "outputs": [
        {
          "output_type": "execute_result",
          "data": {
            "text/plain": [
              "[50, 100, 50]"
            ]
          },
          "metadata": {},
          "execution_count": 48
        }
      ]
    },
    {
      "cell_type": "code",
      "source": [
        "# Akses seluruh keys dan values\n",
        "list(fruits_stock.items())"
      ],
      "metadata": {
        "colab": {
          "base_uri": "https://localhost:8080/"
        },
        "id": "WHaEVsyPsfI1",
        "outputId": "df2055d1-78a2-4485-888f-da81858e7647"
      },
      "execution_count": null,
      "outputs": [
        {
          "output_type": "execute_result",
          "data": {
            "text/plain": [
              "[('apple', 50), ('watermelon', 100), ('orange', 50)]"
            ]
          },
          "metadata": {},
          "execution_count": 49
        }
      ]
    },
    {
      "cell_type": "code",
      "source": [
        "# Menambahkan data baru\n",
        "fruits_stock.update({'melon': 45})\n",
        "fruits_stock"
      ],
      "metadata": {
        "colab": {
          "base_uri": "https://localhost:8080/"
        },
        "id": "mVyyo2u3spq3",
        "outputId": "05120c09-b02a-4e31-ff2c-69198193e57f"
      },
      "execution_count": null,
      "outputs": [
        {
          "output_type": "execute_result",
          "data": {
            "text/plain": [
              "{'apple': 50, 'watermelon': 100, 'orange': 50, 'melon': 45}"
            ]
          },
          "metadata": {},
          "execution_count": 50
        }
      ]
    },
    {
      "cell_type": "code",
      "source": [
        "fruits_stock['melon']"
      ],
      "metadata": {
        "colab": {
          "base_uri": "https://localhost:8080/"
        },
        "id": "kHyWva9Ctcio",
        "outputId": "2e4a8010-e684-41ff-bce4-e258f0b58e0f"
      },
      "execution_count": null,
      "outputs": [
        {
          "output_type": "execute_result",
          "data": {
            "text/plain": [
              "45"
            ]
          },
          "metadata": {},
          "execution_count": 51
        }
      ]
    },
    {
      "cell_type": "code",
      "source": [
        "# Jawaban dari Wisnu Arya\n",
        "customers['umur'][0] = 20\n",
        "customers['nama'][2] = 'Dina'\n",
        "customers"
      ],
      "metadata": {
        "colab": {
          "base_uri": "https://localhost:8080/"
        },
        "id": "I3CDaNfctlnI",
        "outputId": "f569f17f-44c6-4eb4-ca17-e77ea9abe255"
      },
      "execution_count": null,
      "outputs": [
        {
          "output_type": "execute_result",
          "data": {
            "text/plain": [
              "{'id': ['C1', 'C2', 'C3'],\n",
              " 'nama': ['Adi', 'Budi', 'Dina'],\n",
              " 'umur': [20, 19, 30]}"
            ]
          },
          "metadata": {},
          "execution_count": 52
        }
      ]
    },
    {
      "cell_type": "code",
      "source": [
        "# Jawaban dari Fisabiluddin\n",
        "customers['tempat_tinggal'] = ['bandung', 'jakarta', 'bogor'] # customers.update({'tempat_tinggal': ['bandung', 'jakarta', 'bogor']})\n",
        "customers['id'].append('C4')\n",
        "customers['nama'].append('Ina')\n",
        "customers['umur'].append(22)\n",
        "customers['tempat_tinggal'].append('tangerang')\n",
        "\n",
        "customers\n",
        "\n"
      ],
      "metadata": {
        "colab": {
          "base_uri": "https://localhost:8080/"
        },
        "id": "Ta4rTwDQvsx9",
        "outputId": "0020b402-8ba6-4561-cb82-9ccbc0964094"
      },
      "execution_count": null,
      "outputs": [
        {
          "output_type": "execute_result",
          "data": {
            "text/plain": [
              "{'id': ['C1', 'C2', 'C3', 'C4'],\n",
              " 'nama': ['Adi', 'Budi', 'Dina', 'Ina'],\n",
              " 'umur': [20, 19, 30, 22],\n",
              " 'tempat_tinggal': ['bandung', 'jakarta', 'bogor', 'tangerang']}"
            ]
          },
          "metadata": {},
          "execution_count": 53
        }
      ]
    },
    {
      "cell_type": "markdown",
      "source": [
        "## Set"
      ],
      "metadata": {
        "id": "XkS8yG83y_23"
      }
    },
    {
      "cell_type": "code",
      "source": [
        "empty_set = set()"
      ],
      "metadata": {
        "id": "Mhzo4wHUy9WB"
      },
      "execution_count": null,
      "outputs": []
    },
    {
      "cell_type": "code",
      "source": [
        "fruits_set = {'apple', 'banana', 'watermelon', 'cherry'}\n",
        "fruits_set"
      ],
      "metadata": {
        "colab": {
          "base_uri": "https://localhost:8080/"
        },
        "id": "lm7-MyY1ynZI",
        "outputId": "52c1ece5-a45f-4771-fde1-93d07c97caf7"
      },
      "execution_count": null,
      "outputs": [
        {
          "output_type": "execute_result",
          "data": {
            "text/plain": [
              "{'apple', 'banana', 'cherry', 'watermelon'}"
            ]
          },
          "metadata": {},
          "execution_count": 55
        }
      ]
    },
    {
      "cell_type": "code",
      "source": [
        "fruits_set.add('grape')\n",
        "fruits_set"
      ],
      "metadata": {
        "colab": {
          "base_uri": "https://localhost:8080/"
        },
        "id": "MUVCTss1zWVF",
        "outputId": "c86855d0-735a-4c9d-adee-2b268e3489b6"
      },
      "execution_count": null,
      "outputs": [
        {
          "output_type": "execute_result",
          "data": {
            "text/plain": [
              "{'apple', 'banana', 'cherry', 'grape', 'watermelon'}"
            ]
          },
          "metadata": {},
          "execution_count": 56
        }
      ]
    },
    {
      "cell_type": "code",
      "source": [
        "fruits_set.update(['manggo', 'coconut'])\n",
        "fruits_set"
      ],
      "metadata": {
        "colab": {
          "base_uri": "https://localhost:8080/"
        },
        "id": "gN3gonvvzYl1",
        "outputId": "c0027a50-f6f7-444e-e6e9-214d57103079"
      },
      "execution_count": null,
      "outputs": [
        {
          "output_type": "execute_result",
          "data": {
            "text/plain": [
              "{'apple', 'banana', 'cherry', 'coconut', 'grape', 'manggo', 'watermelon'}"
            ]
          },
          "metadata": {},
          "execution_count": 57
        }
      ]
    },
    {
      "cell_type": "code",
      "source": [
        "fruits_set.remove('apple')\n",
        "fruits_set"
      ],
      "metadata": {
        "colab": {
          "base_uri": "https://localhost:8080/"
        },
        "id": "qfAwj41xzy2C",
        "outputId": "77c7fb92-6395-4059-e514-87deeaf48f90"
      },
      "execution_count": null,
      "outputs": [
        {
          "output_type": "execute_result",
          "data": {
            "text/plain": [
              "{'banana', 'cherry', 'coconut', 'grape', 'manggo', 'watermelon'}"
            ]
          },
          "metadata": {},
          "execution_count": 58
        }
      ]
    },
    {
      "cell_type": "code",
      "source": [
        "A = {1, 2, 3, 4, 5}\n",
        "B = {4, 5, 6, 7, 8}\n",
        "\n",
        "# Union\n",
        "print(A | B)\n",
        "print(A.union(B))"
      ],
      "metadata": {
        "colab": {
          "base_uri": "https://localhost:8080/"
        },
        "id": "zxx6ooGlz6Nc",
        "outputId": "d202155f-fee7-4d68-bfef-47ec4b9ef10f"
      },
      "execution_count": null,
      "outputs": [
        {
          "output_type": "stream",
          "name": "stdout",
          "text": [
            "{1, 2, 3, 4, 5, 6, 7, 8}\n",
            "{1, 2, 3, 4, 5, 6, 7, 8}\n"
          ]
        }
      ]
    },
    {
      "cell_type": "code",
      "source": [
        "# Intersection\n",
        "print(A & B)\n",
        "print(A.intersection(B))"
      ],
      "metadata": {
        "colab": {
          "base_uri": "https://localhost:8080/"
        },
        "id": "z5JkCBSY0IYq",
        "outputId": "8a543e9b-92af-4cb5-f42c-31f4a3d8d5d0"
      },
      "execution_count": null,
      "outputs": [
        {
          "output_type": "stream",
          "name": "stdout",
          "text": [
            "{4, 5}\n",
            "{4, 5}\n"
          ]
        }
      ]
    },
    {
      "cell_type": "code",
      "source": [
        "# Difference\n",
        "print( A - B)\n",
        "print(A.difference(B))"
      ],
      "metadata": {
        "colab": {
          "base_uri": "https://localhost:8080/"
        },
        "id": "R7xbNNUM0V-m",
        "outputId": "05a72a73-161f-4495-c495-62d08efda0f7"
      },
      "execution_count": null,
      "outputs": [
        {
          "output_type": "stream",
          "name": "stdout",
          "text": [
            "{1, 2, 3}\n",
            "{1, 2, 3}\n"
          ]
        }
      ]
    },
    {
      "cell_type": "code",
      "source": [
        "# Challange Set\n",
        "cash = {'C1', 'C3', 'C7', 'C18', 'C2', 'C9', 'C22', 'C23', 'C25', 'C14'}\n",
        "debit = {'C7', 'C8', 'C18', 'C25', 'C5', 'C3', 'C14', 'C21', 'C20'}\n",
        "credit = {'C1', 'C3', 'C18', 'C25', 'C5', 'C30'}\n",
        "\n",
        "debit_or_credit = debit | credit\n",
        "result = debit_or_credit - cash\n",
        "print(result)"
      ],
      "metadata": {
        "colab": {
          "base_uri": "https://localhost:8080/"
        },
        "id": "A4bko1Hn0lpG",
        "outputId": "10c06ad8-d856-4e11-d718-663a990d6a5b"
      },
      "execution_count": null,
      "outputs": [
        {
          "output_type": "stream",
          "name": "stdout",
          "text": [
            "{'C21', 'C8', 'C5', 'C20', 'C30'}\n"
          ]
        }
      ]
    },
    {
      "cell_type": "code",
      "source": [],
      "metadata": {
        "id": "h9PSbcWpXzsU"
      },
      "execution_count": null,
      "outputs": []
    }
  ]
}