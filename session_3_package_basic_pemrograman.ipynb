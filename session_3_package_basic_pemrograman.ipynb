{
  "nbformat": 4,
  "nbformat_minor": 0,
  "metadata": {
    "colab": {
      "provenance": [],
      "include_colab_link": true
    },
    "kernelspec": {
      "name": "python3",
      "display_name": "Python 3"
    },
    "language_info": {
      "name": "python"
    }
  },
  "cells": [
    {
      "cell_type": "markdown",
      "metadata": {
        "id": "view-in-github",
        "colab_type": "text"
      },
      "source": [
        "<a href=\"https://colab.research.google.com/github/urfa10/MSIB_Dasar-Python/blob/main/session_3_package_basic_pemrograman.ipynb\" target=\"_parent\"><img src=\"https://colab.research.google.com/assets/colab-badge.svg\" alt=\"Open In Colab\"/></a>"
      ]
    },
    {
      "cell_type": "markdown",
      "source": [
        "# Py Boxes"
      ],
      "metadata": {
        "id": "JN-Ii-WXSlqC"
      }
    },
    {
      "cell_type": "markdown",
      "source": [
        "## Module : datetime"
      ],
      "metadata": {
        "id": "vB9OcHoSSpTE"
      }
    },
    {
      "cell_type": "code",
      "execution_count": null,
      "metadata": {
        "id": "zr837AW7RlVm"
      },
      "outputs": [],
      "source": [
        "import datetime"
      ]
    },
    {
      "cell_type": "code",
      "source": [
        "# Mengambil date saat kode ini dijalankan\n",
        "today = datetime.datetime.now()\n",
        "print(today)\n",
        "today_2 = datetime.date.today()\n",
        "print(today_2)"
      ],
      "metadata": {
        "colab": {
          "base_uri": "https://localhost:8080/"
        },
        "id": "lldNRe63RzID",
        "outputId": "caba9ad7-cb07-4ddb-cbf2-d0286e346283"
      },
      "execution_count": null,
      "outputs": [
        {
          "output_type": "stream",
          "name": "stdout",
          "text": [
            "2023-06-13 16:49:05.090290\n",
            "2023-06-13\n"
          ]
        }
      ]
    },
    {
      "cell_type": "code",
      "source": [
        "print(type(today))\n",
        "print(type(today_2))"
      ],
      "metadata": {
        "colab": {
          "base_uri": "https://localhost:8080/"
        },
        "id": "m3mFvDyATVLp",
        "outputId": "42839727-0970-492a-f7f1-51572e8119ee"
      },
      "execution_count": null,
      "outputs": [
        {
          "output_type": "stream",
          "name": "stdout",
          "text": [
            "<class 'datetime.datetime'>\n",
            "<class 'datetime.date'>\n"
          ]
        }
      ]
    },
    {
      "cell_type": "code",
      "source": [
        "# Mengubah bentuk dari date menjadi string\n",
        "today.strftime('%d-%m-%Y')"
      ],
      "metadata": {
        "colab": {
          "base_uri": "https://localhost:8080/",
          "height": 36
        },
        "id": "WoVxAP7QUBjw",
        "outputId": "a1fd11cc-a14e-4c76-e243-865f2f31c16f"
      },
      "execution_count": null,
      "outputs": [
        {
          "output_type": "execute_result",
          "data": {
            "text/plain": [
              "'13-06-2023'"
            ],
            "application/vnd.google.colaboratory.intrinsic+json": {
              "type": "string"
            }
          },
          "metadata": {},
          "execution_count": 32
        }
      ]
    },
    {
      "cell_type": "code",
      "source": [
        "today.strftime('%A, %d %B %Y')"
      ],
      "metadata": {
        "colab": {
          "base_uri": "https://localhost:8080/",
          "height": 36
        },
        "id": "gFUzF3FPUmHG",
        "outputId": "b22916f3-d194-465c-b42b-cebd69eaa24d"
      },
      "execution_count": null,
      "outputs": [
        {
          "output_type": "execute_result",
          "data": {
            "text/plain": [
              "'Tuesday, 13 June 2023'"
            ],
            "application/vnd.google.colaboratory.intrinsic+json": {
              "type": "string"
            }
          },
          "metadata": {},
          "execution_count": 33
        }
      ]
    },
    {
      "cell_type": "code",
      "source": [
        "# mengambil part dari date\n",
        "year = today.year\n",
        "month = today.month\n",
        "day = today.day\n",
        "\n",
        "print(f'Hari ini tahun {year} bulan {month} tanggal {day}')"
      ],
      "metadata": {
        "colab": {
          "base_uri": "https://localhost:8080/"
        },
        "id": "siVEbvkOVe8P",
        "outputId": "dd8b3cf1-148d-4d82-fbb7-9e034b024649"
      },
      "execution_count": null,
      "outputs": [
        {
          "output_type": "stream",
          "name": "stdout",
          "text": [
            "Hari ini tahun 2023 bulan 6 tanggal 13\n"
          ]
        }
      ]
    },
    {
      "cell_type": "code",
      "source": [
        "# Membuat objek date\n",
        "tanggal_lahir = datetime.datetime(2000, 10, 10)\n",
        "print(tanggal_lahir)"
      ],
      "metadata": {
        "colab": {
          "base_uri": "https://localhost:8080/"
        },
        "id": "EAZTFskjWA8a",
        "outputId": "00796314-9221-4c1e-f7d0-a22911e8b963"
      },
      "execution_count": null,
      "outputs": [
        {
          "output_type": "stream",
          "name": "stdout",
          "text": [
            "2000-10-10 00:00:00\n"
          ]
        }
      ]
    },
    {
      "cell_type": "markdown",
      "source": [
        "## Library : Numpy"
      ],
      "metadata": {
        "id": "BezfoT7JWy34"
      }
    },
    {
      "cell_type": "code",
      "source": [
        "# import library\n",
        "import numpy as np"
      ],
      "metadata": {
        "id": "TuyTY3ffWhV-"
      },
      "execution_count": null,
      "outputs": []
    },
    {
      "cell_type": "code",
      "source": [
        "# Membuat array\n",
        "x = np.array(50)\n",
        "y = np.array('Uzumaki Naruto')\n",
        "bilangan_genap = np.array([2, 4, 6, 8, 10])\n",
        "bilangan_ganjil = np.array([1, 3, 5, 7, 9])\n",
        "print(bilangan_ganjil)\n",
        "print(bilangan_genap)\n",
        "y"
      ],
      "metadata": {
        "colab": {
          "base_uri": "https://localhost:8080/"
        },
        "id": "e6CAuaGIZdTp",
        "outputId": "b74a986c-1628-4216-8a85-88c6b49e69f2"
      },
      "execution_count": null,
      "outputs": [
        {
          "output_type": "stream",
          "name": "stdout",
          "text": [
            "[1 3 5 7 9]\n",
            "[ 2  4  6  8 10]\n"
          ]
        },
        {
          "output_type": "execute_result",
          "data": {
            "text/plain": [
              "array('Uzumaki Naruto', dtype='<U14')"
            ]
          },
          "metadata": {},
          "execution_count": 37
        }
      ]
    },
    {
      "cell_type": "code",
      "source": [
        "# Multidimensional array\n",
        "bilangan = np.array([[2, 4, 6, 8, 10],\n",
        "                     [1, 3, 5, 7, 9]]) # dimensi array 2 x 5 (2 baris dan 5 kolom)\n",
        "bilangan"
      ],
      "metadata": {
        "colab": {
          "base_uri": "https://localhost:8080/"
        },
        "id": "1HMajsRsZ4ng",
        "outputId": "3f3c7811-4f49-443c-ae67-8c8796d071d2"
      },
      "execution_count": null,
      "outputs": [
        {
          "output_type": "execute_result",
          "data": {
            "text/plain": [
              "array([[ 2,  4,  6,  8, 10],\n",
              "       [ 1,  3,  5,  7,  9]])"
            ]
          },
          "metadata": {},
          "execution_count": 38
        }
      ]
    },
    {
      "cell_type": "code",
      "source": [
        "nomor = np.array([[2, 4, 6, 8],\n",
        "                  [1, 3, 5, 7, 9]])\n",
        "nomor"
      ],
      "metadata": {
        "colab": {
          "base_uri": "https://localhost:8080/"
        },
        "id": "Y7mHEMAhbF3o",
        "outputId": "f4d4daad-23bb-42a3-8e7b-ab3d101c914e"
      },
      "execution_count": null,
      "outputs": [
        {
          "output_type": "stream",
          "name": "stderr",
          "text": [
            "<ipython-input-39-74eb6283de63>:1: VisibleDeprecationWarning: Creating an ndarray from ragged nested sequences (which is a list-or-tuple of lists-or-tuples-or ndarrays with different lengths or shapes) is deprecated. If you meant to do this, you must specify 'dtype=object' when creating the ndarray.\n",
            "  nomor = np.array([[2, 4, 6, 8],\n"
          ]
        },
        {
          "output_type": "execute_result",
          "data": {
            "text/plain": [
              "array([list([2, 4, 6, 8]), list([1, 3, 5, 7, 9])], dtype=object)"
            ]
          },
          "metadata": {},
          "execution_count": 39
        }
      ]
    },
    {
      "cell_type": "code",
      "source": [
        "# Perbedaan array dengan list\n",
        "list_bilangan_genap = [2, 4, 6, 8, 10]\n",
        "\n",
        "print(list_bilangan_genap * 2)\n",
        "print(bilangan_genap * 2)"
      ],
      "metadata": {
        "colab": {
          "base_uri": "https://localhost:8080/"
        },
        "id": "EYoB-V4Sbm9D",
        "outputId": "51406da0-c461-4de4-b1d3-3684269afeb3"
      },
      "execution_count": null,
      "outputs": [
        {
          "output_type": "stream",
          "name": "stdout",
          "text": [
            "[2, 4, 6, 8, 10, 2, 4, 6, 8, 10]\n",
            "[ 4  8 12 16 20]\n"
          ]
        }
      ]
    },
    {
      "cell_type": "code",
      "source": [
        "print(list_bilangan_genap)\n",
        "print(bilangan_genap + 2)"
      ],
      "metadata": {
        "colab": {
          "base_uri": "https://localhost:8080/"
        },
        "id": "eRu3VvbvcS8c",
        "outputId": "c56cebde-62c6-411c-f5e9-f56aef9637a0"
      },
      "execution_count": null,
      "outputs": [
        {
          "output_type": "stream",
          "name": "stdout",
          "text": [
            "[2, 4, 6, 8, 10]\n",
            "[ 4  6  8 10 12]\n"
          ]
        }
      ]
    },
    {
      "cell_type": "code",
      "source": [
        "# Operasi array\n",
        "nilai_mahasiswa = np.array([90, 97, 50, 45, 80, 86, 77, 100, 20])\n",
        "list_nilai_mahasiswa = [90, 97, 50, 45, 80, 86, 77, 100, 20]"
      ],
      "metadata": {
        "id": "eDjfOs2NciXQ"
      },
      "execution_count": null,
      "outputs": []
    },
    {
      "cell_type": "code",
      "source": [
        "print(np.sum(nilai_mahasiswa))\n",
        "print(sum(list_nilai_mahasiswa))"
      ],
      "metadata": {
        "colab": {
          "base_uri": "https://localhost:8080/"
        },
        "id": "_noSOMKNdUni",
        "outputId": "48d0082e-29dd-4b11-9d26-60d3b5996696"
      },
      "execution_count": null,
      "outputs": [
        {
          "output_type": "stream",
          "name": "stdout",
          "text": [
            "645\n",
            "645\n"
          ]
        }
      ]
    },
    {
      "cell_type": "code",
      "source": [
        "print(np.min(nilai_mahasiswa))\n",
        "print(min(list_nilai_mahasiswa))"
      ],
      "metadata": {
        "colab": {
          "base_uri": "https://localhost:8080/"
        },
        "id": "0xSC8raadl08",
        "outputId": "f78d7e11-f773-4691-b0b7-72d99ac53fe6"
      },
      "execution_count": null,
      "outputs": [
        {
          "output_type": "stream",
          "name": "stdout",
          "text": [
            "20\n",
            "20\n"
          ]
        }
      ]
    },
    {
      "cell_type": "code",
      "source": [
        "print(np.mean(nilai_mahasiswa))\n",
        "# print(mean(list_nilai_mahasiswa))"
      ],
      "metadata": {
        "colab": {
          "base_uri": "https://localhost:8080/"
        },
        "id": "ENTKGiuydu2n",
        "outputId": "4ca651d2-fd39-4ae6-c994-99aaa4c6d25d"
      },
      "execution_count": null,
      "outputs": [
        {
          "output_type": "stream",
          "name": "stdout",
          "text": [
            "71.66666666666667\n"
          ]
        }
      ]
    },
    {
      "cell_type": "code",
      "source": [
        "print(np.median(nilai_mahasiswa))\n",
        "# print(median(list_nilai_mahasiswa))"
      ],
      "metadata": {
        "colab": {
          "base_uri": "https://localhost:8080/"
        },
        "id": "1Az4zrhzd5Fz",
        "outputId": "df8b5718-2c1a-4784-da4d-1f01aaad20c1"
      },
      "execution_count": null,
      "outputs": [
        {
          "output_type": "stream",
          "name": "stdout",
          "text": [
            "80.0\n"
          ]
        }
      ]
    },
    {
      "cell_type": "code",
      "source": [
        "print(np.log10(nilai_mahasiswa))"
      ],
      "metadata": {
        "colab": {
          "base_uri": "https://localhost:8080/"
        },
        "id": "RxltMG5aeKBo",
        "outputId": "a6502cdd-8fef-4771-88f7-4e9b95c07b93"
      },
      "execution_count": null,
      "outputs": [
        {
          "output_type": "stream",
          "name": "stdout",
          "text": [
            "[1.95424251 1.98677173 1.69897    1.65321251 1.90308999 1.93449845\n",
            " 1.88649073 2.         1.30103   ]\n"
          ]
        }
      ]
    },
    {
      "cell_type": "code",
      "source": [
        "# mengubah dimensi array\n",
        "print(nilai_mahasiswa) # (1 x 9)\n",
        "print(nilai_mahasiswa.reshape(3, 3))"
      ],
      "metadata": {
        "colab": {
          "base_uri": "https://localhost:8080/"
        },
        "id": "fQLefLGUeU7l",
        "outputId": "96edf3fb-6c40-453c-e173-2665da2d3e1d"
      },
      "execution_count": null,
      "outputs": [
        {
          "output_type": "stream",
          "name": "stdout",
          "text": [
            "[ 90  97  50  45  80  86  77 100  20]\n",
            "[[ 90  97  50]\n",
            " [ 45  80  86]\n",
            " [ 77 100  20]]\n"
          ]
        }
      ]
    },
    {
      "cell_type": "code",
      "source": [
        "# Challenge Time (Riski Wahyu Ningsih)\n",
        "nilai_1 = [80, 87, 91]\n",
        "nilai_2 = [77, 65, 75]\n",
        "nilai_3 = [59, 60, 47]\n",
        "\n",
        "nilai = np.array([nilai_1, nilai_2, nilai_3])\n",
        "print(nilai)\n",
        "\n",
        "nilai_reshape = nilai.reshape(1,9)\n",
        "# nilai.reshape(-1)\n",
        "print(nilai_reshape)\n",
        "\n",
        "print(np.mean(nilai_reshape) > np.median(nilai_reshape))\n"
      ],
      "metadata": {
        "colab": {
          "base_uri": "https://localhost:8080/"
        },
        "id": "8GpjKdCderly",
        "outputId": "2be41fb3-1f57-44b7-8c66-0021a8f0e4b9"
      },
      "execution_count": null,
      "outputs": [
        {
          "output_type": "stream",
          "name": "stdout",
          "text": [
            "[[80 87 91]\n",
            " [77 65 75]\n",
            " [59 60 47]]\n",
            "[[80 87 91 77 65 75 59 60 47]]\n",
            "False\n"
          ]
        }
      ]
    },
    {
      "cell_type": "markdown",
      "source": [
        "# Programming Basic\n",
        "## Conditional Statement"
      ],
      "metadata": {
        "id": "fFyax6DkqnFA"
      }
    },
    {
      "cell_type": "code",
      "source": [
        "# implementasi 1 kondisi\n",
        "current_status = 'on-delivery'\n",
        "barang_diterima = True\n",
        "\n",
        "if barang_diterima == True:\n",
        "  current_status = 'delivered'\n",
        "\n",
        "print(current_status)"
      ],
      "metadata": {
        "colab": {
          "base_uri": "https://localhost:8080/"
        },
        "id": "J5FHeye_iOgM",
        "outputId": "c56f0474-6f38-46c9-bebd-4a852c60b6c7"
      },
      "execution_count": null,
      "outputs": [
        {
          "output_type": "stream",
          "name": "stdout",
          "text": [
            "delivered\n"
          ]
        }
      ]
    },
    {
      "cell_type": "code",
      "source": [
        "# implementasi 2 kondisi\n",
        "x = 15\n",
        "\n",
        "if x > 5:\n",
        "  print('x lebih besar dari 5')\n",
        "else:\n",
        "  print('x tidak lebih besar dari 5')"
      ],
      "metadata": {
        "colab": {
          "base_uri": "https://localhost:8080/"
        },
        "id": "0gRAVf_JrV1X",
        "outputId": "be93497b-1058-4c86-9475-6aff97869c48"
      },
      "execution_count": null,
      "outputs": [
        {
          "output_type": "stream",
          "name": "stdout",
          "text": [
            "x lebih besar dari 5\n"
          ]
        }
      ]
    },
    {
      "cell_type": "code",
      "source": [
        "# implementasi 3 kondisi\n",
        "x = -100\n",
        "\n",
        "if x > 10:\n",
        "  print('x lebih besar dari 10')\n",
        "elif x == 10:\n",
        "  print('x sama dengan 10')\n",
        "else:\n",
        "  print('x lebih kecil dari 10')"
      ],
      "metadata": {
        "colab": {
          "base_uri": "https://localhost:8080/"
        },
        "id": "xqrAm6nasS8M",
        "outputId": "52ab8971-b673-4464-f46c-0205ae8c253b"
      },
      "execution_count": null,
      "outputs": [
        {
          "output_type": "stream",
          "name": "stdout",
          "text": [
            "x lebih kecil dari 10\n"
          ]
        }
      ]
    },
    {
      "cell_type": "code",
      "source": [
        "# Challenge\n",
        "nilai = [90, 85, 55, 47, 87, 90, 65]\n",
        "\n",
        "# ingin mengklasifikasikan rata-rata dari nilai tersebut\n",
        "# jika rata-rata >= 90 maka rapot = 'A'\n",
        "# jika rata-rata >= 80 maka rapot = 'B'\n",
        "# jika rata-rata >= 70 maka rapot = 'C'\n",
        "# jika rata-rata >= 60 maka rapot = 'D'\n",
        "# jika rata-rata < 60 maka rapot = 'E'\n",
        "\n",
        "# print(nilai rata-rata)\n",
        "# print(nilai rapot)\n",
        "\n",
        "# jawaban dari laureta mauren\n",
        "rata_rata = sum(nilai) / len(nilai)\n",
        "\n",
        "if rata_rata >= 90:\n",
        "  rapot = 'A'\n",
        "elif rata_rata >= 80:\n",
        "  rapot = 'B'\n",
        "elif rata_rata >= 70:\n",
        "  rapot = 'C'\n",
        "elif rata_rata >= 60:\n",
        "  rapot = 'D'\n",
        "else:\n",
        "  rapot = 'E'\n",
        "\n",
        "print(f'nilai rata-rata: {rata_rata}')\n",
        "print(f'nilai rapot: {rapot}')"
      ],
      "metadata": {
        "colab": {
          "base_uri": "https://localhost:8080/"
        },
        "id": "O5UlB_03s_Oy",
        "outputId": "45e262a2-23ef-4e1b-ac90-7b932284a194"
      },
      "execution_count": null,
      "outputs": [
        {
          "output_type": "stream",
          "name": "stdout",
          "text": [
            "nilai rata-rata: 74.14285714285714\n",
            "nilai rapot: C\n"
          ]
        }
      ]
    },
    {
      "cell_type": "code",
      "source": [
        "# Nested IF\n",
        "prefered_genre = 'anime'\n",
        "wacth_ads = True\n",
        "\n",
        "if prefered_genre == 'drama':\n",
        "  if wacth_ads:\n",
        "    service = 'service a (with ads)'\n",
        "  else:\n",
        "    service = 'service b (no ads)'\n",
        "elif prefered_genre == 'action':\n",
        "  if wacth_ads:\n",
        "    service = 'service c (with ads)'\n",
        "  else:\n",
        "    service = 'service d (no ads)'\n",
        "else:\n",
        "  service = 'service e'\n",
        "\n",
        "print(f'prefered genre: {prefered_genre}')\n",
        "print(f'wacth ads: {wacth_ads}')\n",
        "print(f'streaming service: {service}')"
      ],
      "metadata": {
        "colab": {
          "base_uri": "https://localhost:8080/"
        },
        "id": "opVS3NxcwlqP",
        "outputId": "7e48dfe6-56d2-4640-8ae5-a4587f8db81b"
      },
      "execution_count": null,
      "outputs": [
        {
          "output_type": "stream",
          "name": "stdout",
          "text": [
            "prefered genre: anime\n",
            "wacth ads: True\n",
            "streaming service: service e\n"
          ]
        }
      ]
    },
    {
      "cell_type": "code",
      "source": [
        "x=14\n",
        "y=16\n",
        "\n",
        "print(x>14 & x==y)"
      ],
      "metadata": {
        "colab": {
          "base_uri": "https://localhost:8080/"
        },
        "id": "noixRqOKGkfH",
        "outputId": "9c1b132a-5624-43b3-bc89-424216ad020d"
      },
      "execution_count": null,
      "outputs": [
        {
          "output_type": "stream",
          "name": "stdout",
          "text": [
            "False\n"
          ]
        }
      ]
    },
    {
      "cell_type": "code",
      "source": [
        "# tenary operator / one line conditional statement\n",
        "age = 20\n",
        "\n",
        "discount_eligible = 'Yes' if age >=60 else 'No'\n",
        "\n",
        "print(f'age: {age} is eligible for discount: {discount_eligible}')"
      ],
      "metadata": {
        "colab": {
          "base_uri": "https://localhost:8080/"
        },
        "id": "do0j0-Q9zQfp",
        "outputId": "9e18bf3d-aafc-4eb9-875b-13507f7ad9ee"
      },
      "execution_count": null,
      "outputs": [
        {
          "output_type": "stream",
          "name": "stdout",
          "text": [
            "age: 20 is eligible for discount: No\n"
          ]
        }
      ]
    },
    {
      "cell_type": "code",
      "source": [
        "# number = 42\n",
        "# gunakan one line conditional statement untuk menentukan number itu genap atau ganjil\n",
        "# Jawaban dari riski wahyu ningsih\n",
        "number = 42\n",
        "bilangan = 'genap' if number % 2 == 0 else 'ganjil'\n",
        "print(f'number: {number} adalah bilangan {bilangan}')"
      ],
      "metadata": {
        "colab": {
          "base_uri": "https://localhost:8080/"
        },
        "id": "oXB2anpn0x1m",
        "outputId": "0d047ee0-b307-4a70-9ba1-2d16b94c9657"
      },
      "execution_count": null,
      "outputs": [
        {
          "output_type": "stream",
          "name": "stdout",
          "text": [
            "number: 42 adalah bilangan genap\n"
          ]
        }
      ]
    },
    {
      "cell_type": "code",
      "source": [
        "temp = int(input('masukan nilai temperature dalam celcius: '))\n",
        "\n",
        "if temp < 0:\n",
        "  classification = 'Freezing'\n",
        "elif temp < 10:\n",
        "  classification = 'Cold'\n",
        "elif temp < 20:\n",
        "  classification = 'Mild'\n",
        "elif temp < 30:\n",
        "  classification = 'Warm'\n",
        "else:\n",
        "  classification = 'Bekasi'\n",
        "\n",
        "print(f'{temp}C is {classification}')"
      ],
      "metadata": {
        "colab": {
          "base_uri": "https://localhost:8080/"
        },
        "id": "HoxHY3zy3PlX",
        "outputId": "08d644c2-2d20-42ad-a49d-c64f80fe04cc"
      },
      "execution_count": null,
      "outputs": [
        {
          "output_type": "stream",
          "name": "stdout",
          "text": [
            "masukan nilai temperature dalam celcius: 60\n",
            "60C is Bekasi\n"
          ]
        }
      ]
    },
    {
      "cell_type": "code",
      "source": [
        "# Challenge\n",
        "usia = int(input('masukan usia anda: '))\n",
        "genre = input('pilih genre favorit anda (action atau romance): ').lower()\n",
        "iklan = input('apakah bersedia menonton iklan (ya atau tidak): ').lower()\n",
        "\n",
        "if iklan == 'ya':\n",
        "  rekomendasi = 'Layanan E'\n",
        "elif usia < 18:\n",
        "  if genre == 'action':\n",
        "    rekomendasi = 'Layanan A'\n",
        "  elif genre == 'romance':\n",
        "    rekomendasi = 'Layanan B'\n",
        "  else:\n",
        "    rekomendasi = 'Layanan F'\n",
        "else:\n",
        "  if genre == 'action':\n",
        "    rekomendasi = 'Layanan C'\n",
        "  elif genre == 'romance':\n",
        "    rekomendasi = 'Layanan D'\n",
        "  else:\n",
        "    rekomendasi = 'Layanan F'\n",
        "\n",
        "print(f'Layanan streaming yang direkomendasikan: {rekomendasi}')"
      ],
      "metadata": {
        "colab": {
          "base_uri": "https://localhost:8080/"
        },
        "id": "_5Mo1PZx37ee",
        "outputId": "4f8726c8-3c0f-479d-c5d6-dd0bbfc22d0e"
      },
      "execution_count": null,
      "outputs": [
        {
          "output_type": "stream",
          "name": "stdout",
          "text": [
            "masukan usia anda: 70\n",
            "pilih genre favorit anda (action atau romance): romance\n",
            "apakah bersedia menonton iklan (ya atau tidak): ya\n",
            "Layanan streaming yang direkomendasikan: Layanan E\n"
          ]
        }
      ]
    },
    {
      "cell_type": "code",
      "source": [],
      "metadata": {
        "id": "RT6PUSoV-gzY"
      },
      "execution_count": null,
      "outputs": []
    }
  ]
}