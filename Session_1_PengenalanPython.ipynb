{
  "nbformat": 4,
  "nbformat_minor": 0,
  "metadata": {
    "colab": {
      "provenance": [],
      "include_colab_link": true
    },
    "kernelspec": {
      "name": "python3",
      "display_name": "Python 3"
    },
    "language_info": {
      "name": "python"
    }
  },
  "cells": [
    {
      "cell_type": "markdown",
      "metadata": {
        "id": "view-in-github",
        "colab_type": "text"
      },
      "source": [
        "<a href=\"https://colab.research.google.com/github/urfa10/MSIB_Dasar-Python/blob/main/Session_1_PengenalanPython.ipynb\" target=\"_parent\"><img src=\"https://colab.research.google.com/assets/colab-badge.svg\" alt=\"Open In Colab\"/></a>"
      ]
    },
    {
      "cell_type": "markdown",
      "source": [
        "# Pendahuluan Python"
      ],
      "metadata": {
        "id": "As6uUuEZnF9A"
      }
    },
    {
      "cell_type": "markdown",
      "source": [
        "## Variabel"
      ],
      "metadata": {
        "id": "T3Cmh57MoU33"
      }
    },
    {
      "cell_type": "code",
      "source": [
        "nama = 'Tony Stark'\n",
        "umur = 30\n",
        "tinggi = 170"
      ],
      "metadata": {
        "id": "0PbXi3ptnHWn"
      },
      "execution_count": null,
      "outputs": []
    },
    {
      "cell_type": "code",
      "source": [
        "nama"
      ],
      "metadata": {
        "colab": {
          "base_uri": "https://localhost:8080/",
          "height": 36
        },
        "id": "_sDm0xGeorSd",
        "outputId": "535beb60-6adf-49bd-91ca-b64bf7a6a98f"
      },
      "execution_count": null,
      "outputs": [
        {
          "output_type": "execute_result",
          "data": {
            "text/plain": [
              "'Tony Stark'"
            ],
            "application/vnd.google.colaboratory.intrinsic+json": {
              "type": "string"
            }
          },
          "metadata": {},
          "execution_count": 24
        }
      ]
    },
    {
      "cell_type": "code",
      "source": [
        "print(nama)"
      ],
      "metadata": {
        "colab": {
          "base_uri": "https://localhost:8080/"
        },
        "id": "YbJzSiT4oeEK",
        "outputId": "f9c14bac-181f-4e6a-b84e-1539041112bc"
      },
      "execution_count": null,
      "outputs": [
        {
          "output_type": "stream",
          "name": "stdout",
          "text": [
            "Tony Stark\n"
          ]
        }
      ]
    },
    {
      "cell_type": "markdown",
      "source": [
        "## Print"
      ],
      "metadata": {
        "id": "ykHOVCh0pWMq"
      }
    },
    {
      "cell_type": "code",
      "source": [
        "# versi 1\n",
        "print('nama saya', nama, 'berumur', umur, 'tahun dengan tinggi', tinggi)\n",
        "\n",
        "# versi 2\n",
        "print('nama saya {} berumur {} tahun dengan tinggi {}'.format(nama, umur, tinggi))\n",
        "\n",
        "# versi 3\n",
        "print(f'nama saya {nama} berumur {umur} tahun dengan tinggi {tinggi}')"
      ],
      "metadata": {
        "colab": {
          "base_uri": "https://localhost:8080/"
        },
        "id": "WzAu1J0rpM5R",
        "outputId": "1b4a8723-01ce-4921-a28e-9b1703b00c4e"
      },
      "execution_count": null,
      "outputs": [
        {
          "output_type": "stream",
          "name": "stdout",
          "text": [
            "nama saya Tony Stark berumur 30 tahun dengan tinggi 170\n",
            "nama saya Tony Stark berumur 30 tahun dengan tinggi 170\n",
            "nama saya Tony Stark berumur 30 tahun dengan tinggi 170\n"
          ]
        }
      ]
    },
    {
      "cell_type": "markdown",
      "source": [
        "## Tipe Data Dasar (Primitive)"
      ],
      "metadata": {
        "id": "qtdxKDQTrEg3"
      }
    },
    {
      "cell_type": "markdown",
      "source": [
        "### String"
      ],
      "metadata": {
        "id": "AYkip60dw59h"
      }
    },
    {
      "cell_type": "code",
      "source": [
        "nama_customer = 'Iron Man'\n",
        "nama_customer_2 = 'Hulk'\n",
        "\n",
        "print(nama_customer)\n",
        "print(nama_customer_2)"
      ],
      "metadata": {
        "colab": {
          "base_uri": "https://localhost:8080/"
        },
        "id": "R0oNAf_GpumB",
        "outputId": "5189d64e-542e-4d5d-c585-c1d183b6fe11"
      },
      "execution_count": null,
      "outputs": [
        {
          "output_type": "stream",
          "name": "stdout",
          "text": [
            "Iron Man\n",
            "Hulk\n"
          ]
        }
      ]
    },
    {
      "cell_type": "code",
      "source": [
        "# Cek tipe data\n",
        "print(type(nama_customer))\n",
        "print(type(nama_customer_2))"
      ],
      "metadata": {
        "colab": {
          "base_uri": "https://localhost:8080/"
        },
        "id": "9wGSR0horQcP",
        "outputId": "2ee89001-cb3d-4cda-dcd3-e4311dd2bea1"
      },
      "execution_count": null,
      "outputs": [
        {
          "output_type": "stream",
          "name": "stdout",
          "text": [
            "<class 'str'>\n",
            "<class 'str'>\n"
          ]
        }
      ]
    },
    {
      "cell_type": "code",
      "source": [
        "# Casting string data type\n",
        "no_ktp = str(123321456)\n",
        "print(type(no_ktp))"
      ],
      "metadata": {
        "colab": {
          "base_uri": "https://localhost:8080/"
        },
        "id": "s6TZpLdjxV5R",
        "outputId": "dbbf9646-40c0-4ed9-f5e9-67bcf9891c43"
      },
      "execution_count": null,
      "outputs": [
        {
          "output_type": "stream",
          "name": "stdout",
          "text": [
            "<class 'str'>\n"
          ]
        }
      ]
    },
    {
      "cell_type": "markdown",
      "source": [
        "### Numeric"
      ],
      "metadata": {
        "id": "RY4dXMpXyIDP"
      }
    },
    {
      "cell_type": "code",
      "source": [
        "# Integer\n",
        "jumlah_motor = 250\n",
        "print(type(jumlah_motor))"
      ],
      "metadata": {
        "colab": {
          "base_uri": "https://localhost:8080/"
        },
        "id": "pAhAp-T_yFr8",
        "outputId": "92fbf187-b70c-4cf9-dd98-776b795ada38"
      },
      "execution_count": null,
      "outputs": [
        {
          "output_type": "stream",
          "name": "stdout",
          "text": [
            "<class 'int'>\n"
          ]
        }
      ]
    },
    {
      "cell_type": "code",
      "source": [
        "# Float\n",
        "berat_motor = 4567.5\n",
        "print(type(berat_motor))"
      ],
      "metadata": {
        "colab": {
          "base_uri": "https://localhost:8080/"
        },
        "id": "0SSpR63Lxt3-",
        "outputId": "5d91831f-23d5-4215-c47d-f810e64a5cc6"
      },
      "execution_count": null,
      "outputs": [
        {
          "output_type": "stream",
          "name": "stdout",
          "text": [
            "<class 'float'>\n"
          ]
        }
      ]
    },
    {
      "cell_type": "code",
      "source": [
        "# Casting int ke float\n",
        "ukuran_sepatu = float(30)\n",
        "print(type(ukuran_sepatu))"
      ],
      "metadata": {
        "colab": {
          "base_uri": "https://localhost:8080/"
        },
        "id": "L_6yBDrjyn7h",
        "outputId": "44079539-c0a3-4113-bb89-9a7be4e8a155"
      },
      "execution_count": null,
      "outputs": [
        {
          "output_type": "stream",
          "name": "stdout",
          "text": [
            "<class 'float'>\n"
          ]
        }
      ]
    },
    {
      "cell_type": "markdown",
      "source": [
        "### Boolean"
      ],
      "metadata": {
        "id": "0BQKCjPizFYJ"
      }
    },
    {
      "cell_type": "code",
      "source": [
        "tampan = True\n",
        "print(type(tampan))"
      ],
      "metadata": {
        "colab": {
          "base_uri": "https://localhost:8080/"
        },
        "id": "HKqFEPIDy4sI",
        "outputId": "6909635f-1fde-4554-e5bf-b24225ec80da"
      },
      "execution_count": null,
      "outputs": [
        {
          "output_type": "stream",
          "name": "stdout",
          "text": [
            "<class 'bool'>\n"
          ]
        }
      ]
    },
    {
      "cell_type": "code",
      "source": [
        "x = 100\n",
        "y = 20\n",
        "\n",
        "print(x > y)\n",
        "print(x < y)"
      ],
      "metadata": {
        "colab": {
          "base_uri": "https://localhost:8080/"
        },
        "id": "WbGhDdu-zNrK",
        "outputId": "7f736157-5521-48bd-ced3-f479912b404c"
      },
      "execution_count": null,
      "outputs": [
        {
          "output_type": "stream",
          "name": "stdout",
          "text": [
            "True\n",
            "False\n"
          ]
        }
      ]
    },
    {
      "cell_type": "code",
      "source": [
        "if x < y:\n",
        "  print(f'{x} lebih kecil dari {y}')\n",
        "else:\n",
        "  print(f'{x} lebih besar dari {y}')"
      ],
      "metadata": {
        "colab": {
          "base_uri": "https://localhost:8080/"
        },
        "id": "EF-ApL6gzcuK",
        "outputId": "679ed23d-3551-48fc-8e36-d91bcbc48b3a"
      },
      "execution_count": null,
      "outputs": [
        {
          "output_type": "stream",
          "name": "stdout",
          "text": [
            "100 lebih besar dari 20\n"
          ]
        }
      ]
    },
    {
      "cell_type": "markdown",
      "source": [
        "## Operasi Dasar"
      ],
      "metadata": {
        "id": "Z8B0kMUu0pUy"
      }
    },
    {
      "cell_type": "markdown",
      "source": [
        "### Arithmetic"
      ],
      "metadata": {
        "id": "9il5EzFv0tgV"
      }
    },
    {
      "cell_type": "code",
      "source": [
        "a = 21\n",
        "b = 2\n",
        "\n",
        "print(a / b)\n",
        "print(a % b)\n",
        "print(a // b)"
      ],
      "metadata": {
        "colab": {
          "base_uri": "https://localhost:8080/"
        },
        "id": "IcFc0g-Bz0v9",
        "outputId": "2a44eb56-e981-43a9-ace0-ba6dca0475d4"
      },
      "execution_count": null,
      "outputs": [
        {
          "output_type": "stream",
          "name": "stdout",
          "text": [
            "10.5\n",
            "1\n",
            "10\n"
          ]
        }
      ]
    },
    {
      "cell_type": "code",
      "source": [
        "# use case modulus\n",
        "n_hari = 1500\n",
        "hari_kedepan = n_hari & 7\n",
        "print(hari_kedepan)"
      ],
      "metadata": {
        "colab": {
          "base_uri": "https://localhost:8080/"
        },
        "id": "vomRMf4H07ES",
        "outputId": "25e34e29-acf2-4fda-df3e-7fe3c3f0ad72"
      },
      "execution_count": null,
      "outputs": [
        {
          "output_type": "stream",
          "name": "stdout",
          "text": [
            "4\n"
          ]
        }
      ]
    },
    {
      "cell_type": "code",
      "source": [
        "# use case floor division dan modulus\n",
        "jumlah_detik = 54050\n",
        "jam = jumlah_detik // 3600\n",
        "sisa_detik = jumlah_detik % 3600\n",
        "menit = sisa_detik // 60\n",
        "sisa_detik = sisa_detik % 60\n",
        "\n",
        "print(f'{jumlah_detik} detik sama dengan {jam} jam {menit} menit {sisa_detik} detik')"
      ],
      "metadata": {
        "colab": {
          "base_uri": "https://localhost:8080/"
        },
        "id": "lYaZGsoR14Dc",
        "outputId": "1d3fffd9-9f0e-4bde-d8e6-9afa8b192eff"
      },
      "execution_count": null,
      "outputs": [
        {
          "output_type": "stream",
          "name": "stdout",
          "text": [
            "54050 detik sama dengan 15 jam 0 menit 50 detik\n"
          ]
        }
      ]
    },
    {
      "cell_type": "markdown",
      "source": [
        "#### Exercise"
      ],
      "metadata": {
        "id": "3aMo5l9k3ESp"
      }
    },
    {
      "cell_type": "code",
      "source": [
        "# kita menjual barang seharga 40000\n",
        "# barang telah terjual 250 pcs\n",
        "# hitung total revenue\n",
        "# hitung average revenue (total revenue / quantity)\n",
        "price = 40000\n",
        "quantity = 250\n",
        "total_revenue = price * quantity\n",
        "avg_revenue = total_revenue / quantity\n",
        "\n",
        "print(total_revenue)\n",
        "print(avg_revenue)"
      ],
      "metadata": {
        "colab": {
          "base_uri": "https://localhost:8080/"
        },
        "id": "dD0k6zom2s2l",
        "outputId": "a0f22cd6-a333-488b-d9ad-0bbb48f6b7dd"
      },
      "execution_count": null,
      "outputs": [
        {
          "output_type": "stream",
          "name": "stdout",
          "text": [
            "10000000\n",
            "40000.0\n"
          ]
        }
      ]
    },
    {
      "cell_type": "code",
      "source": [
        "# rumus pythagoras c^2 = a^2 + b^2\n",
        "# diketahui a = 3, b = 4\n",
        "# berapa nilai c\n",
        "# nilai c = akar(a^2 + b^2)\n",
        "\n",
        "a = 3\n",
        "b = 4\n",
        "\n",
        "c = (a**2 + b**2)**(1/2)\n",
        "print('c: ', c)\n",
        "\n"
      ],
      "metadata": {
        "colab": {
          "base_uri": "https://localhost:8080/"
        },
        "id": "sL82zQFg5ZK6",
        "outputId": "cdf40fb2-36a0-4302-91a3-db3cadb024b7"
      },
      "execution_count": null,
      "outputs": [
        {
          "output_type": "stream",
          "name": "stdout",
          "text": [
            "c:  5.0\n"
          ]
        }
      ]
    },
    {
      "cell_type": "code",
      "source": [
        "from math import sqrt\n",
        "c = sqrt(a**2 + b**2)\n",
        "c"
      ],
      "metadata": {
        "colab": {
          "base_uri": "https://localhost:8080/"
        },
        "id": "-nkfeQx07Ozc",
        "outputId": "854c60e9-7cce-4c99-a5ef-1046fe138761"
      },
      "execution_count": null,
      "outputs": [
        {
          "output_type": "execute_result",
          "data": {
            "text/plain": [
              "5.0"
            ]
          },
          "metadata": {},
          "execution_count": 41
        }
      ]
    },
    {
      "cell_type": "markdown",
      "source": [
        "### Comparison"
      ],
      "metadata": {
        "id": "UPL2x72h8DLB"
      }
    },
    {
      "cell_type": "code",
      "source": [
        "x = 15\n",
        "y = 6\n",
        "\n",
        "print(x == y)\n",
        "print(x != y)\n",
        "print(x > y)\n",
        "print(x < y)"
      ],
      "metadata": {
        "colab": {
          "base_uri": "https://localhost:8080/"
        },
        "id": "ArNdDiza7e-O",
        "outputId": "41e51f93-eba9-474c-83fe-8ba30d25cbbb"
      },
      "execution_count": null,
      "outputs": [
        {
          "output_type": "stream",
          "name": "stdout",
          "text": [
            "False\n",
            "True\n",
            "True\n",
            "False\n"
          ]
        }
      ]
    },
    {
      "cell_type": "markdown",
      "source": [
        "### Logical Operator"
      ],
      "metadata": {
        "id": "azlQUlcP82la"
      }
    },
    {
      "cell_type": "code",
      "source": [
        "x = 15\n",
        "y = 6\n",
        "\n",
        "# and\n",
        "print(x > y and x ==y)\n",
        "\n",
        "# or\n",
        "print(x > y or x == 1000)\n",
        "\n",
        "# not\n",
        "print(not(x > y or x == 1000))"
      ],
      "metadata": {
        "colab": {
          "base_uri": "https://localhost:8080/"
        },
        "id": "MZ20U-zC71J2",
        "outputId": "f8f6c296-d7a7-4854-9622-61dc41715696"
      },
      "execution_count": null,
      "outputs": [
        {
          "output_type": "stream",
          "name": "stdout",
          "text": [
            "False\n",
            "True\n",
            "False\n"
          ]
        }
      ]
    },
    {
      "cell_type": "code",
      "source": [
        "# banyak logical\n",
        "print(((x > y and x == 15) and x != 6) and y == 6)"
      ],
      "metadata": {
        "colab": {
          "base_uri": "https://localhost:8080/"
        },
        "id": "X3BJIdOw9IKc",
        "outputId": "931d8beb-9392-4e51-a1a3-f2acfd322c64"
      },
      "execution_count": null,
      "outputs": [
        {
          "output_type": "stream",
          "name": "stdout",
          "text": [
            "True\n"
          ]
        }
      ]
    },
    {
      "cell_type": "markdown",
      "source": [
        "### Operasi pada string"
      ],
      "metadata": {
        "id": "uZL_AMW4-vbv"
      }
    },
    {
      "cell_type": "code",
      "source": [
        "# Operasi +\n",
        "nama_depan = 'tony'\n",
        "spasi = ' '\n",
        "nama_belakang = 'stark'\n",
        "nama_lengkap = nama_depan + spasi + nama_belakang\n",
        "print(nama_lengkap)\n"
      ],
      "metadata": {
        "colab": {
          "base_uri": "https://localhost:8080/"
        },
        "id": "U8aK07Jz9rAq",
        "outputId": "782b39b3-f773-400c-ed17-9e979f950c66"
      },
      "execution_count": null,
      "outputs": [
        {
          "output_type": "stream",
          "name": "stdout",
          "text": [
            "tony stark\n"
          ]
        }
      ]
    },
    {
      "cell_type": "code",
      "source": [
        "# fungsi string\n",
        "kota = \"Jakarta\"\n",
        "kota_kecil = kota.lower()\n",
        "kota_besar = kota.upper()\n",
        "\n",
        "print(kota_kecil)\n",
        "print(kota_besar)"
      ],
      "metadata": {
        "colab": {
          "base_uri": "https://localhost:8080/"
        },
        "id": "CAe0bt7Q-_gE",
        "outputId": "52092192-70ce-4b6a-df8d-7cc9b92a2ae9"
      },
      "execution_count": null,
      "outputs": [
        {
          "output_type": "stream",
          "name": "stdout",
          "text": [
            "jakarta\n",
            "JAKARTA\n"
          ]
        }
      ]
    },
    {
      "cell_type": "code",
      "source": [
        "# mengganti sebagian string\n",
        "kalimat = 'naruto dan sasuke pergi melawan madara'\n",
        "kalimat.replace('dan', 'bersama')"
      ],
      "metadata": {
        "colab": {
          "base_uri": "https://localhost:8080/",
          "height": 36
        },
        "id": "iswwYhVh_kd0",
        "outputId": "c78318d6-7eb9-4c9f-cf5b-cf57158b2883"
      },
      "execution_count": null,
      "outputs": [
        {
          "output_type": "execute_result",
          "data": {
            "text/plain": [
              "'naruto bersama sasuke pergi melawan madara'"
            ],
            "application/vnd.google.colaboratory.intrinsic+json": {
              "type": "string"
            }
          },
          "metadata": {},
          "execution_count": 47
        }
      ]
    },
    {
      "cell_type": "code",
      "source": [
        "# case\n",
        "no_telp = '0821-1111-2222'\n",
        "no_telp.replace('-', '')"
      ],
      "metadata": {
        "colab": {
          "base_uri": "https://localhost:8080/",
          "height": 36
        },
        "id": "6dXi1WWA_4hI",
        "outputId": "68af3882-0210-437b-803f-2dbd833eb844"
      },
      "execution_count": null,
      "outputs": [
        {
          "output_type": "execute_result",
          "data": {
            "text/plain": [
              "'082111112222'"
            ],
            "application/vnd.google.colaboratory.intrinsic+json": {
              "type": "string"
            }
          },
          "metadata": {},
          "execution_count": 48
        }
      ]
    },
    {
      "cell_type": "markdown",
      "source": [
        "#### Excercise"
      ],
      "metadata": {
        "id": "YGClh2_3AKjv"
      }
    },
    {
      "cell_type": "code",
      "source": [
        "# 3 variabel penjualan\n",
        "penjualan_1 = '5,000'\n",
        "penjualan_2 = '3,200'\n",
        "penjualan_3 = '1,300'\n",
        "\n",
        "# bersihkan data dan hitung jumlah penjualan\n",
        "total = int(penjualan_1.replace(',', '')) + int(penjualan_2.replace(',', '')) + int(penjualan_3.replace(',', ''))\n",
        "print(total)"
      ],
      "metadata": {
        "colab": {
          "base_uri": "https://localhost:8080/"
        },
        "id": "z94uW55mAEbs",
        "outputId": "d4f6adec-145e-4c6f-da27-d16f6cbd7f65"
      },
      "execution_count": null,
      "outputs": [
        {
          "output_type": "stream",
          "name": "stdout",
          "text": [
            "9500\n"
          ]
        }
      ]
    },
    {
      "cell_type": "code",
      "source": [],
      "metadata": {
        "id": "cVcBqYZQBCeu"
      },
      "execution_count": null,
      "outputs": []
    }
  ]
}