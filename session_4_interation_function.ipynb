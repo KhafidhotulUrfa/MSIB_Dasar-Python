{
  "nbformat": 4,
  "nbformat_minor": 0,
  "metadata": {
    "colab": {
      "provenance": [],
      "include_colab_link": true
    },
    "kernelspec": {
      "name": "python3",
      "display_name": "Python 3"
    },
    "language_info": {
      "name": "python"
    }
  },
  "cells": [
    {
      "cell_type": "markdown",
      "metadata": {
        "id": "view-in-github",
        "colab_type": "text"
      },
      "source": [
        "<a href=\"https://colab.research.google.com/github/urfa10/MSIB_Dasar-Python/blob/main/session_4_interation_function.ipynb\" target=\"_parent\"><img src=\"https://colab.research.google.com/assets/colab-badge.svg\" alt=\"Open In Colab\"/></a>"
      ]
    },
    {
      "cell_type": "markdown",
      "source": [
        "# Iteration\n",
        "## For Loop"
      ],
      "metadata": {
        "id": "OO-FVLknbWJL"
      }
    },
    {
      "cell_type": "code",
      "execution_count": null,
      "metadata": {
        "id": "HAC2wPdyY4y4"
      },
      "outputs": [],
      "source": [
        "# contoh syntax for loop\n",
        "for target in iterable:\n",
        "  statement(s)"
      ]
    },
    {
      "cell_type": "code",
      "source": [
        "list_angka = [1, 3, 5, 7, 9]\n",
        "\n",
        "for i in list_angka:\n",
        "  print(i)"
      ],
      "metadata": {
        "colab": {
          "base_uri": "https://localhost:8080/"
        },
        "id": "xxxCLOVIbpvD",
        "outputId": "d5b8c99c-3bdf-42e4-e710-57e1be04ebf5"
      },
      "execution_count": null,
      "outputs": [
        {
          "output_type": "stream",
          "name": "stdout",
          "text": [
            "1\n",
            "3\n",
            "5\n",
            "7\n",
            "9\n"
          ]
        }
      ]
    },
    {
      "cell_type": "code",
      "source": [
        "tuple_angka = (1, 2, 3, 4, 5, 6)\n",
        "\n",
        "for i in tuple_angka:\n",
        "  print(i)"
      ],
      "metadata": {
        "colab": {
          "base_uri": "https://localhost:8080/"
        },
        "id": "sjn9PRzgb46J",
        "outputId": "5744b18a-4208-42de-ff02-5f8e97f189af"
      },
      "execution_count": null,
      "outputs": [
        {
          "output_type": "stream",
          "name": "stdout",
          "text": [
            "1\n",
            "2\n",
            "3\n",
            "4\n",
            "5\n",
            "6\n"
          ]
        }
      ]
    },
    {
      "cell_type": "code",
      "source": [
        "iter({2, 4, 6})"
      ],
      "metadata": {
        "colab": {
          "base_uri": "https://localhost:8080/"
        },
        "id": "NRqu-BqrcFzb",
        "outputId": "e3427b6e-3eb5-4ec9-a3bc-0cab5fc0a271"
      },
      "execution_count": null,
      "outputs": [
        {
          "output_type": "execute_result",
          "data": {
            "text/plain": [
              "<set_iterator at 0x7f849739da00>"
            ]
          },
          "metadata": {},
          "execution_count": 5
        }
      ]
    },
    {
      "cell_type": "code",
      "source": [
        "# range\n",
        "for i in range(5):\n",
        "  print(i)"
      ],
      "metadata": {
        "colab": {
          "base_uri": "https://localhost:8080/"
        },
        "id": "9fSvCUdTcLaU",
        "outputId": "fbbe1222-4521-4628-d07a-1b25b82d615f"
      },
      "execution_count": null,
      "outputs": [
        {
          "output_type": "stream",
          "name": "stdout",
          "text": [
            "0\n",
            "1\n",
            "2\n",
            "3\n",
            "4\n"
          ]
        }
      ]
    },
    {
      "cell_type": "code",
      "source": [
        "for i in range(1, 11):\n",
        "  print(i)"
      ],
      "metadata": {
        "colab": {
          "base_uri": "https://localhost:8080/"
        },
        "id": "GYCFXfT2ciBg",
        "outputId": "668432cb-910b-42f5-af9a-d539976e582c"
      },
      "execution_count": null,
      "outputs": [
        {
          "output_type": "stream",
          "name": "stdout",
          "text": [
            "1\n",
            "2\n",
            "3\n",
            "4\n",
            "5\n",
            "6\n",
            "7\n",
            "8\n",
            "9\n",
            "10\n"
          ]
        }
      ]
    },
    {
      "cell_type": "code",
      "source": [
        "for i in range(1, 21, 2):\n",
        "  print(i)"
      ],
      "metadata": {
        "colab": {
          "base_uri": "https://localhost:8080/"
        },
        "id": "xRQf8-hfcp9_",
        "outputId": "ed916652-ede1-4970-dd28-52a1595d8d3b"
      },
      "execution_count": null,
      "outputs": [
        {
          "output_type": "stream",
          "name": "stdout",
          "text": [
            "1\n",
            "3\n",
            "5\n",
            "7\n",
            "9\n",
            "11\n",
            "13\n",
            "15\n",
            "17\n",
            "19\n"
          ]
        }
      ]
    },
    {
      "cell_type": "code",
      "source": [
        "# statement bisa lebih dari satu\n",
        "for i in range (1,11):\n",
        "  kuadrat = i*i # statement 1\n",
        "  print(f'kuadrat {i} adalah {kuadrat}') #statement 2"
      ],
      "metadata": {
        "colab": {
          "base_uri": "https://localhost:8080/"
        },
        "id": "UHOcjBuUczyq",
        "outputId": "ba476455-dd4b-4aa8-df00-5a216cf48451"
      },
      "execution_count": null,
      "outputs": [
        {
          "output_type": "stream",
          "name": "stdout",
          "text": [
            "kuadrat 1 adalah 1\n",
            "kuadrat 2 adalah 4\n",
            "kuadrat 3 adalah 9\n",
            "kuadrat 4 adalah 16\n",
            "kuadrat 5 adalah 25\n",
            "kuadrat 6 adalah 36\n",
            "kuadrat 7 adalah 49\n",
            "kuadrat 8 adalah 64\n",
            "kuadrat 9 adalah 81\n",
            "kuadrat 10 adalah 100\n"
          ]
        }
      ]
    },
    {
      "cell_type": "code",
      "source": [
        "# terdapat 50 user_id dari 101-150\n",
        "# kita akan memilih beberapa user\n",
        "# dengan kriteria:\n",
        "# jika nilai user_id adalah bilangan kelipatan 5 yang habis dibagi 2\n",
        "# gunakan for loop dan cantumkan user yang masuk kriteria\n",
        "# Hint: buat list kosong\n",
        "# nilai user_id yang masuk kriteria dimasukkan ke dalam list kosong tsb\n",
        "# Jawaban wahyu ningsih\n",
        "\n",
        "user_id = []\n",
        "choosen = []\n",
        "for i in range (101,151):\n",
        "  user_id.append(i)\n",
        "  if i%5 == 0 and i%2 == 0:\n",
        "    choosen.append(i)\n",
        "\n",
        "print(user_id)\n",
        "print(choosen)"
      ],
      "metadata": {
        "colab": {
          "base_uri": "https://localhost:8080/"
        },
        "id": "6GFNgtQjdQhd",
        "outputId": "e636393f-09c4-40fd-f516-b5e231424d63"
      },
      "execution_count": null,
      "outputs": [
        {
          "output_type": "stream",
          "name": "stdout",
          "text": [
            "[101, 102, 103, 104, 105, 106, 107, 108, 109, 110, 111, 112, 113, 114, 115, 116, 117, 118, 119, 120, 121, 122, 123, 124, 125, 126, 127, 128, 129, 130, 131, 132, 133, 134, 135, 136, 137, 138, 139, 140, 141, 142, 143, 144, 145, 146, 147, 148, 149, 150]\n",
            "[110, 120, 130, 140, 150]\n"
          ]
        }
      ]
    },
    {
      "cell_type": "code",
      "source": [
        "list_angka = [1, 3, 5, 7, 9]\n",
        "\n",
        "for i in list_angka:\n",
        "  print(i)"
      ],
      "metadata": {
        "colab": {
          "base_uri": "https://localhost:8080/"
        },
        "id": "xmup4SBthYTb",
        "outputId": "2616c0ed-cccd-4940-b29f-348cdf84c6e0"
      },
      "execution_count": null,
      "outputs": [
        {
          "output_type": "stream",
          "name": "stdout",
          "text": [
            "1\n",
            "3\n",
            "5\n",
            "7\n",
            "9\n"
          ]
        }
      ]
    },
    {
      "cell_type": "code",
      "source": [
        "# memunculkan index\n",
        "for i in list_angka:\n",
        "  print(f'index {list_angka.index(i)} bernilai {i}')"
      ],
      "metadata": {
        "colab": {
          "base_uri": "https://localhost:8080/"
        },
        "id": "c1BMuQcghmY4",
        "outputId": "3c795d25-c24a-453d-fc98-05fab8d19931"
      },
      "execution_count": null,
      "outputs": [
        {
          "output_type": "stream",
          "name": "stdout",
          "text": [
            "index 0 bernilai 1\n",
            "index 1 bernilai 3\n",
            "index 2 bernilai 5\n",
            "index 3 bernilai 7\n",
            "index 4 bernilai 9\n"
          ]
        }
      ]
    },
    {
      "cell_type": "code",
      "source": [
        "# kekurangan\n",
        "list_angka = [1, 3, 5, 7, 9, 1]\n",
        "\n",
        "for i in list_angka:\n",
        "  print(f'index {list_angka.index(i)} bernilai {i}')"
      ],
      "metadata": {
        "colab": {
          "base_uri": "https://localhost:8080/"
        },
        "id": "p7rU8IAsh-Ok",
        "outputId": "c2c2dca2-9212-4940-85a1-29fcc17062f5"
      },
      "execution_count": null,
      "outputs": [
        {
          "output_type": "stream",
          "name": "stdout",
          "text": [
            "index 0 bernilai 1\n",
            "index 1 bernilai 3\n",
            "index 2 bernilai 5\n",
            "index 3 bernilai 7\n",
            "index 4 bernilai 9\n",
            "index 0 bernilai 1\n"
          ]
        }
      ]
    },
    {
      "cell_type": "code",
      "source": [
        "# memunculkan indeks yang sesuai (.enumerate)\n",
        "list_angka = [1, 3, 5, 7, 9, 1]\n",
        "\n",
        "for i, x in enumerate(list_angka):\n",
        "  print(f'index {i} bernilai {x}')"
      ],
      "metadata": {
        "colab": {
          "base_uri": "https://localhost:8080/"
        },
        "id": "jt0_HiUBiJOr",
        "outputId": "699ce117-7813-44f9-9c7a-d9e112148623"
      },
      "execution_count": null,
      "outputs": [
        {
          "output_type": "stream",
          "name": "stdout",
          "text": [
            "index 0 bernilai 1\n",
            "index 1 bernilai 3\n",
            "index 2 bernilai 5\n",
            "index 3 bernilai 7\n",
            "index 4 bernilai 9\n",
            "index 5 bernilai 1\n"
          ]
        }
      ]
    },
    {
      "cell_type": "code",
      "source": [
        "# data iterable nya multidimensi\n",
        "data = [[1, 'andi'],\n",
        "        [2, 'toni'],\n",
        "        [3, 'budi'],\n",
        "        [6, 'jeni']]\n",
        "\n",
        "for m, n in data:\n",
        "  print(f'nomor {m}, namanya {n}')\n",
        "\n",
        "for i in data:\n",
        "  print(i)"
      ],
      "metadata": {
        "colab": {
          "base_uri": "https://localhost:8080/"
        },
        "id": "RgG82u2rijb0",
        "outputId": "91724822-80ba-42f7-dc1d-c675bf81a13f"
      },
      "execution_count": null,
      "outputs": [
        {
          "output_type": "stream",
          "name": "stdout",
          "text": [
            "nomor 1, namanya andi\n",
            "nomor 2, namanya toni\n",
            "nomor 3, namanya budi\n",
            "nomor 6, namanya jeni\n",
            "[1, 'andi']\n",
            "[2, 'toni']\n",
            "[3, 'budi']\n",
            "[6, 'jeni']\n"
          ]
        }
      ]
    },
    {
      "cell_type": "code",
      "source": [
        "# membuat list baru dari suatu loop\n",
        "nilai = [50, 60, 70, 80, 90, 30]\n",
        "status = []\n",
        "\n",
        "for i in nilai:\n",
        "  if i >= 70:\n",
        "    status.append('Lulus')\n",
        "  else:\n",
        "    status.append('Tidak Lulus')\n",
        "\n",
        "print(status)"
      ],
      "metadata": {
        "colab": {
          "base_uri": "https://localhost:8080/"
        },
        "id": "Np7mR1yyjnrz",
        "outputId": "6745643b-c53f-4bf1-9e48-b232a89f5c89"
      },
      "execution_count": null,
      "outputs": [
        {
          "output_type": "stream",
          "name": "stdout",
          "text": [
            "['Tidak Lulus', 'Tidak Lulus', 'Lulus', 'Lulus', 'Lulus', 'Tidak Lulus']\n"
          ]
        }
      ]
    },
    {
      "cell_type": "code",
      "source": [
        "# one liner loop\n",
        "nilai = [50, 60, 70, 80, 90, 30]\n",
        "status = ['Lulus' if i >= 70 else 'Tidak Lulus' for i in nilai]\n",
        "print(status)"
      ],
      "metadata": {
        "colab": {
          "base_uri": "https://localhost:8080/"
        },
        "id": "RBhlEkiUkivh",
        "outputId": "74f77c9d-0010-441e-b6a7-3dbec8035539"
      },
      "execution_count": null,
      "outputs": [
        {
          "output_type": "stream",
          "name": "stdout",
          "text": [
            "['Tidak Lulus', 'Tidak Lulus', 'Lulus', 'Lulus', 'Lulus', 'Tidak Lulus']\n"
          ]
        }
      ]
    },
    {
      "cell_type": "code",
      "source": [
        "# nested for\n",
        "category_list = ['makanan', 'minuman', 'fashion', 'elektronik']\n",
        "bundling_list = []\n",
        "\n",
        "for i in category_list:\n",
        "  category = i\n",
        "  for y in category_list:\n",
        "    if i != y:\n",
        "      category2 = y\n",
        "      bundling = i + '-' + y\n",
        "      bundling_list.append(bundling)"
      ],
      "metadata": {
        "id": "4L88DqBVk6_L"
      },
      "execution_count": null,
      "outputs": []
    },
    {
      "cell_type": "code",
      "source": [
        "bundling_list"
      ],
      "metadata": {
        "colab": {
          "base_uri": "https://localhost:8080/"
        },
        "id": "MB5B5XgFmDdE",
        "outputId": "40c9b629-00eb-45bb-d4d4-235caebd5884"
      },
      "execution_count": null,
      "outputs": [
        {
          "output_type": "execute_result",
          "data": {
            "text/plain": [
              "['makanan-minuman',\n",
              " 'makanan-fashion',\n",
              " 'makanan-elektronik',\n",
              " 'minuman-makanan',\n",
              " 'minuman-fashion',\n",
              " 'minuman-elektronik',\n",
              " 'fashion-makanan',\n",
              " 'fashion-minuman',\n",
              " 'fashion-elektronik',\n",
              " 'elektronik-makanan',\n",
              " 'elektronik-minuman',\n",
              " 'elektronik-fashion']"
            ]
          },
          "metadata": {},
          "execution_count": 24
        }
      ]
    },
    {
      "cell_type": "markdown",
      "source": [
        "challenge\n",
        "- list_order = [10, 1, 2, 3, 25, 11, 22, 30, 35]\n",
        "- tentukan ada berapa banyak customer yang orderannya di atas rata-rata\n",
        "- tampilkan nilai rata-rata\n",
        "- tampilkan orderan yang di atas rata-rata\n",
        "- tampilkan jumlah orderan di atas rata-rata"
      ],
      "metadata": {
        "id": "csc4MJl_m2ec"
      }
    },
    {
      "cell_type": "code",
      "source": [
        "# jawaban wisnu arya\n",
        "from statistics import mean\n",
        "\n",
        "list_order = [10, 1, 2, 3, 25, 11, 22, 30, 35]\n",
        "x = []\n",
        "print(f'average = {mean(list_order)}')\n",
        "for i in list_order:\n",
        "  if i > mean(list_order):\n",
        "    x.append(i)\n",
        "\n",
        "print(x)\n",
        "print(len(x))"
      ],
      "metadata": {
        "colab": {
          "base_uri": "https://localhost:8080/"
        },
        "id": "2rm0OfJpmF8e",
        "outputId": "c1ab8bd4-401f-4c1a-f4cb-c7a79e35ea74"
      },
      "execution_count": null,
      "outputs": [
        {
          "output_type": "stream",
          "name": "stdout",
          "text": [
            "average = 15.444444444444445\n",
            "[25, 22, 30, 35]\n",
            "4\n"
          ]
        }
      ]
    },
    {
      "cell_type": "code",
      "source": [
        "# looping pada dictionary\n",
        "seller_category = {\n",
        "    'A' : ['makanan', 'minuman', 'elektronik'],\n",
        "    'B' : ['fashion', 'makanan'],\n",
        "    'C' : ['minuman'],\n",
        "    'D' : ['aksesoris', 'fashion']\n",
        "}\n",
        "\n",
        "for i in seller_category:\n",
        "  print(f'seller {i} berjualan {seller_category[i]}')"
      ],
      "metadata": {
        "colab": {
          "base_uri": "https://localhost:8080/"
        },
        "id": "-l8TLsrRm0Wm",
        "outputId": "d5b3be48-7923-42d8-c7c2-6231913927b7"
      },
      "execution_count": null,
      "outputs": [
        {
          "output_type": "stream",
          "name": "stdout",
          "text": [
            "seller A berjualan ['makanan', 'minuman', 'elektronik']\n",
            "seller B berjualan ['fashion', 'makanan']\n",
            "seller C berjualan ['minuman']\n",
            "seller D berjualan ['aksesoris', 'fashion']\n"
          ]
        }
      ]
    },
    {
      "cell_type": "code",
      "source": [
        "for key, value in seller_category.items():\n",
        "    print(f'seller {key} berjualan {value}')"
      ],
      "metadata": {
        "colab": {
          "base_uri": "https://localhost:8080/"
        },
        "id": "jO8_Ia4lqtDi",
        "outputId": "658093f1-2a6f-4959-d71b-7c215029c628"
      },
      "execution_count": null,
      "outputs": [
        {
          "output_type": "stream",
          "name": "stdout",
          "text": [
            "seller A berjualan ['makanan', 'minuman', 'elektronik']\n",
            "seller B berjualan ['fashion', 'makanan']\n",
            "seller C berjualan ['minuman']\n",
            "seller D berjualan ['aksesoris', 'fashion']\n"
          ]
        }
      ]
    },
    {
      "cell_type": "code",
      "source": [
        "# membuat dict baru dari suatu looping\n",
        "new_dict = {}\n",
        "for key, value in seller_category.items():\n",
        "  if 'minuman' in value:\n",
        "    new_dict.update({key : value})\n",
        "\n",
        "print(new_dict)"
      ],
      "metadata": {
        "colab": {
          "base_uri": "https://localhost:8080/"
        },
        "id": "uVzzQdWHrJIb",
        "outputId": "11bae98f-3efc-48ac-db16-04f42a2f657b"
      },
      "execution_count": null,
      "outputs": [
        {
          "output_type": "stream",
          "name": "stdout",
          "text": [
            "{'A': ['makanan', 'minuman', 'elektronik'], 'C': ['minuman']}\n"
          ]
        }
      ]
    },
    {
      "cell_type": "code",
      "source": [
        "# dari seller category di atas, buat dictionary baru (new_seller)\n",
        "# ambil data seller yang menjual fashion"
      ],
      "metadata": {
        "id": "-_2DPyzLrx9c"
      },
      "execution_count": null,
      "outputs": []
    },
    {
      "cell_type": "markdown",
      "source": [
        "## While loop"
      ],
      "metadata": {
        "id": "ne-qkrYAzzIP"
      }
    },
    {
      "cell_type": "code",
      "source": [
        "# while loop\n",
        "while expression:\n",
        "  statement(s)"
      ],
      "metadata": {
        "id": "fTBm9z8Uz082"
      },
      "execution_count": null,
      "outputs": []
    },
    {
      "cell_type": "code",
      "source": [
        "i = 0\n",
        "while i < 5:\n",
        "  print(i)\n",
        "  i += 1"
      ],
      "metadata": {
        "colab": {
          "base_uri": "https://localhost:8080/"
        },
        "id": "4xOZ9mv_0CrI",
        "outputId": "9b56ad16-cd08-434d-da96-db3794e27429"
      },
      "execution_count": null,
      "outputs": [
        {
          "output_type": "stream",
          "name": "stdout",
          "text": [
            "0\n",
            "1\n",
            "2\n",
            "3\n",
            "4\n"
          ]
        }
      ]
    },
    {
      "cell_type": "code",
      "source": [
        "# break\n",
        "i = 1\n",
        "while i < 6:\n",
        "  print(i)\n",
        "  if i == 3:\n",
        "    break\n",
        "  i += 1"
      ],
      "metadata": {
        "colab": {
          "base_uri": "https://localhost:8080/"
        },
        "id": "qanziZeV0Prk",
        "outputId": "6e7cc2cb-53db-44a1-bb50-888ce360f648"
      },
      "execution_count": null,
      "outputs": [
        {
          "output_type": "stream",
          "name": "stdout",
          "text": [
            "1\n",
            "2\n",
            "3\n"
          ]
        }
      ]
    },
    {
      "cell_type": "code",
      "source": [
        "# continue\n",
        "i = 0\n",
        "while i < 6:\n",
        "  i += 1\n",
        "  if i == 3:\n",
        "    continue\n",
        "  print(i)"
      ],
      "metadata": {
        "colab": {
          "base_uri": "https://localhost:8080/"
        },
        "id": "kCNW_bIj1CXn",
        "outputId": "e9219fc2-a30e-4db8-f53a-39252b9c3f99"
      },
      "execution_count": null,
      "outputs": [
        {
          "output_type": "stream",
          "name": "stdout",
          "text": [
            "1\n",
            "2\n",
            "4\n",
            "5\n",
            "6\n"
          ]
        }
      ]
    },
    {
      "cell_type": "code",
      "source": [
        "i = 1\n",
        "while i < 6:\n",
        "  print(i)\n",
        "  i += 1\n",
        "else:\n",
        "  print('looping telah berhenti')"
      ],
      "metadata": {
        "colab": {
          "base_uri": "https://localhost:8080/"
        },
        "id": "EItywN_z1TEj",
        "outputId": "a38bdc3e-21d8-410d-cd98-2a53bb39b54e"
      },
      "execution_count": null,
      "outputs": [
        {
          "output_type": "stream",
          "name": "stdout",
          "text": [
            "1\n",
            "2\n",
            "3\n",
            "4\n",
            "5\n",
            "looping telah berhenti\n"
          ]
        }
      ]
    },
    {
      "cell_type": "code",
      "source": [
        "data = [1, 2, 3, 50, 45, 33, 70, 20]\n",
        "target = 500\n",
        "found = False\n",
        "i = 0\n",
        "\n",
        "while i < len(data) and not found:\n",
        "  if data[i] == target:\n",
        "    found = True\n",
        "  else:\n",
        "    i += 1\n",
        "\n",
        "if found:\n",
        "  print(f'target {target} found at index {i}')\n",
        "else:\n",
        "  print(f'target {target} tidak ditemukan')"
      ],
      "metadata": {
        "colab": {
          "base_uri": "https://localhost:8080/"
        },
        "id": "h0wWvx3q13-c",
        "outputId": "ef3ea560-00f3-4d8c-e05f-47450c919949"
      },
      "execution_count": null,
      "outputs": [
        {
          "output_type": "stream",
          "name": "stdout",
          "text": [
            "target 500 tidak ditemukan\n"
          ]
        }
      ]
    },
    {
      "cell_type": "markdown",
      "source": [
        "# Function"
      ],
      "metadata": {
        "id": "5UKqmsMy4r1E"
      }
    },
    {
      "cell_type": "code",
      "source": [
        "def cetak_kalimat():\n",
        "  print('belajar python itu mudah')"
      ],
      "metadata": {
        "id": "lz9sbIo54ttA"
      },
      "execution_count": null,
      "outputs": []
    },
    {
      "cell_type": "code",
      "source": [
        "cetak_kalimat()"
      ],
      "metadata": {
        "colab": {
          "base_uri": "https://localhost:8080/"
        },
        "id": "TUK_NlgZ42Qi",
        "outputId": "0b9f1019-80b1-4fa5-c03e-e210c4acd414"
      },
      "execution_count": null,
      "outputs": [
        {
          "output_type": "stream",
          "name": "stdout",
          "text": [
            "belajar python itu mudah\n"
          ]
        }
      ]
    },
    {
      "cell_type": "code",
      "source": [
        "cetak_kalimat"
      ],
      "metadata": {
        "colab": {
          "base_uri": "https://localhost:8080/"
        },
        "id": "XM0ARXVM45NG",
        "outputId": "6a4c5c52-70ee-4824-b638-af249a540c8b"
      },
      "execution_count": null,
      "outputs": [
        {
          "output_type": "execute_result",
          "data": {
            "text/plain": [
              "<function __main__.cetak_kalimat()>"
            ]
          },
          "metadata": {},
          "execution_count": 44
        }
      ]
    },
    {
      "cell_type": "code",
      "source": [
        "nilai.append"
      ],
      "metadata": {
        "colab": {
          "base_uri": "https://localhost:8080/"
        },
        "id": "abl0v6Zq5FOm",
        "outputId": "616373cb-ba9f-4c39-f29c-fef854bcbab9"
      },
      "execution_count": null,
      "outputs": [
        {
          "output_type": "execute_result",
          "data": {
            "text/plain": [
              "<function list.append(object, /)>"
            ]
          },
          "metadata": {},
          "execution_count": 45
        }
      ]
    },
    {
      "cell_type": "code",
      "source": [
        "# output fungsi\n",
        "def perkalian(a,b):\n",
        "  print(a*b)"
      ],
      "metadata": {
        "id": "6EkK_4nc5RCt"
      },
      "execution_count": null,
      "outputs": []
    },
    {
      "cell_type": "code",
      "source": [
        "perkalian(4, 4)"
      ],
      "metadata": {
        "colab": {
          "base_uri": "https://localhost:8080/"
        },
        "id": "lRlJm08f5kwf",
        "outputId": "ba7b552e-e97c-4f0c-b6bb-bcba0508fda0"
      },
      "execution_count": null,
      "outputs": [
        {
          "output_type": "stream",
          "name": "stdout",
          "text": [
            "16\n"
          ]
        }
      ]
    },
    {
      "cell_type": "code",
      "source": [
        "nilai = perkalian(5, 5)"
      ],
      "metadata": {
        "colab": {
          "base_uri": "https://localhost:8080/"
        },
        "id": "skGQ9O5f5nIq",
        "outputId": "1a48434a-7f8e-47e4-ebbc-dca7225a496a"
      },
      "execution_count": null,
      "outputs": [
        {
          "output_type": "stream",
          "name": "stdout",
          "text": [
            "25\n"
          ]
        }
      ]
    },
    {
      "cell_type": "code",
      "source": [
        "type(nilai)"
      ],
      "metadata": {
        "colab": {
          "base_uri": "https://localhost:8080/"
        },
        "id": "VTBcK8jW5uBi",
        "outputId": "a51dfbb3-763d-47eb-86ce-4b947c2fb715"
      },
      "execution_count": null,
      "outputs": [
        {
          "output_type": "execute_result",
          "data": {
            "text/plain": [
              "NoneType"
            ]
          },
          "metadata": {},
          "execution_count": 51
        }
      ]
    },
    {
      "cell_type": "code",
      "source": [
        "# output fungsi (return)\n",
        "def penjumlahan(a,b):\n",
        "  return a + b"
      ],
      "metadata": {
        "id": "gXUcZWQB5xuG"
      },
      "execution_count": null,
      "outputs": []
    },
    {
      "cell_type": "code",
      "source": [
        "penjumlahan(5, 6)"
      ],
      "metadata": {
        "colab": {
          "base_uri": "https://localhost:8080/"
        },
        "id": "Uoi_RhPn6D5o",
        "outputId": "123b56d6-c2df-42df-ff81-00c558ccb984"
      },
      "execution_count": null,
      "outputs": [
        {
          "output_type": "execute_result",
          "data": {
            "text/plain": [
              "11"
            ]
          },
          "metadata": {},
          "execution_count": 53
        }
      ]
    },
    {
      "cell_type": "code",
      "source": [
        "nilai = penjumlahan (4, 4)"
      ],
      "metadata": {
        "id": "9PEduFSd6GeX"
      },
      "execution_count": null,
      "outputs": []
    },
    {
      "cell_type": "code",
      "source": [
        "nilai"
      ],
      "metadata": {
        "colab": {
          "base_uri": "https://localhost:8080/"
        },
        "id": "6c5Ha8f76K1N",
        "outputId": "595571c4-7a6f-444b-ea21-cc809f14703a"
      },
      "execution_count": null,
      "outputs": [
        {
          "output_type": "execute_result",
          "data": {
            "text/plain": [
              "8"
            ]
          },
          "metadata": {},
          "execution_count": 55
        }
      ]
    },
    {
      "cell_type": "code",
      "source": [
        "# default variabel\n",
        "def belajar(var='python'):\n",
        "  print(f'Saya sedang belajar {var}')"
      ],
      "metadata": {
        "id": "bYIlY32u6M3z"
      },
      "execution_count": null,
      "outputs": []
    },
    {
      "cell_type": "code",
      "source": [
        "belajar('fungsi')"
      ],
      "metadata": {
        "colab": {
          "base_uri": "https://localhost:8080/"
        },
        "id": "bRUVJujp6mEI",
        "outputId": "04d993ab-0ea7-406d-cf6c-4b7c6376e1cd"
      },
      "execution_count": null,
      "outputs": [
        {
          "output_type": "stream",
          "name": "stdout",
          "text": [
            "Saya sedang belajar fungsi\n"
          ]
        }
      ]
    },
    {
      "cell_type": "code",
      "source": [
        "belajar()"
      ],
      "metadata": {
        "colab": {
          "base_uri": "https://localhost:8080/"
        },
        "id": "WlCr5IMG6pCA",
        "outputId": "5c77b0f1-d8ba-4641-b94d-4c5c74b9503a"
      },
      "execution_count": null,
      "outputs": [
        {
          "output_type": "stream",
          "name": "stdout",
          "text": [
            "Saya sedang belajar python\n"
          ]
        }
      ]
    },
    {
      "cell_type": "code",
      "source": [
        "# doc string\n",
        "def deteksi_genap(var):\n",
        "  '''\n",
        "  ini adalah fungsi untuk mendeteksi suatu bilangan bernilai genap\n",
        "  '''\n",
        "  if var%2 == 0:\n",
        "    print(f'{var} adalah angka genap')\n",
        "  else:\n",
        "    print(f'{var} adalah angka ganjil')"
      ],
      "metadata": {
        "id": "65M_NiXO6sJy"
      },
      "execution_count": null,
      "outputs": []
    },
    {
      "cell_type": "code",
      "source": [
        "deteksi_genap(12312812471)"
      ],
      "metadata": {
        "colab": {
          "base_uri": "https://localhost:8080/"
        },
        "id": "r0IDrLWN6xRh",
        "outputId": "f6323100-8dbd-4c80-fd35-313356e2111d"
      },
      "execution_count": null,
      "outputs": [
        {
          "output_type": "stream",
          "name": "stdout",
          "text": [
            "12312812471 adalah angka ganjil\n"
          ]
        }
      ]
    },
    {
      "cell_type": "code",
      "source": [
        "# Challenge\n",
        "# buatlah suatu fungsi yang bisa mendeteksi kata 'python'\n",
        "# memberikan nilai true jika ketemu dan false jika tidak ditemukan\n",
        "# untuk melakukan pengecekan silahkan gunakan metode input\n",
        "# def cek kalimat\n",
        "# input kalimat -> fungsi cek kalimat\n",
        "# jawaban daffa sayyid\n",
        "def deteksi_python(teks):\n",
        "  if 'python' in teks.lower():\n",
        "    return True\n",
        "  else:\n",
        "    return False"
      ],
      "metadata": {
        "id": "A0k_iNFw7oG1"
      },
      "execution_count": null,
      "outputs": []
    },
    {
      "cell_type": "code",
      "source": [
        "input_teks = input('Masukkan teks: ')\n",
        "hasil = deteksi_python(input_teks)\n",
        "print(hasil)"
      ],
      "metadata": {
        "colab": {
          "base_uri": "https://localhost:8080/"
        },
        "id": "w1wSMhtq_Bc7",
        "outputId": "d1a3dee7-8a89-4dff-944e-55797ce7adad"
      },
      "execution_count": null,
      "outputs": [
        {
          "output_type": "stream",
          "name": "stdout",
          "text": [
            "Masukkan teks: Python adalah ular\n",
            "True\n"
          ]
        }
      ]
    },
    {
      "cell_type": "code",
      "source": [
        "# pythonic way\n",
        "def cek_python(teks):\n",
        "  return 'python' in teks.lower()"
      ],
      "metadata": {
        "id": "Cnz2o3nx_MAk"
      },
      "execution_count": null,
      "outputs": []
    },
    {
      "cell_type": "code",
      "source": [
        "cek_python('Python')"
      ],
      "metadata": {
        "colab": {
          "base_uri": "https://localhost:8080/"
        },
        "id": "iF0sYLx9_wgx",
        "outputId": "a8385c72-7406-402f-8d6b-7fbc315c8134"
      },
      "execution_count": null,
      "outputs": [
        {
          "output_type": "execute_result",
          "data": {
            "text/plain": [
              "True"
            ]
          },
          "metadata": {},
          "execution_count": 71
        }
      ]
    },
    {
      "cell_type": "code",
      "source": [
        "# *Args dan **Kwargs\n",
        "def jumlah (a,b):\n",
        "  return a + b"
      ],
      "metadata": {
        "id": "K5iKFgEd_zQt"
      },
      "execution_count": null,
      "outputs": []
    },
    {
      "cell_type": "code",
      "source": [
        "jumlah(1,2)"
      ],
      "metadata": {
        "colab": {
          "base_uri": "https://localhost:8080/"
        },
        "id": "RDDK2Dr_ARjW",
        "outputId": "b23e16ba-5037-422c-fafd-ed626c74b2c7"
      },
      "execution_count": null,
      "outputs": [
        {
          "output_type": "execute_result",
          "data": {
            "text/plain": [
              "3"
            ]
          },
          "metadata": {},
          "execution_count": 74
        }
      ]
    },
    {
      "cell_type": "code",
      "source": [
        "def jumlah (a,b,c):\n",
        "  return a + b + c"
      ],
      "metadata": {
        "id": "gPWfbs2HAUu8"
      },
      "execution_count": null,
      "outputs": []
    },
    {
      "cell_type": "code",
      "source": [
        "jumlah(1,2,3)"
      ],
      "metadata": {
        "colab": {
          "base_uri": "https://localhost:8080/"
        },
        "id": "eR3H4EmQAb_5",
        "outputId": "100cd2de-e91a-4864-ad9c-4dcb8fff06bd"
      },
      "execution_count": null,
      "outputs": [
        {
          "output_type": "execute_result",
          "data": {
            "text/plain": [
              "6"
            ]
          },
          "metadata": {},
          "execution_count": 76
        }
      ]
    },
    {
      "cell_type": "code",
      "source": [
        "def jumlah (*args):\n",
        "  return sum(args)"
      ],
      "metadata": {
        "id": "h-B1Oj6BAdNH"
      },
      "execution_count": null,
      "outputs": []
    },
    {
      "cell_type": "code",
      "source": [
        "jumlah(1,2,3,4,5,6,7,4,5,6,7)"
      ],
      "metadata": {
        "colab": {
          "base_uri": "https://localhost:8080/"
        },
        "id": "qULaiiFgAioO",
        "outputId": "ab6379bf-3527-4060-f1da-d1731745a17e"
      },
      "execution_count": null,
      "outputs": [
        {
          "output_type": "execute_result",
          "data": {
            "text/plain": [
              "50"
            ]
          },
          "metadata": {},
          "execution_count": 80
        }
      ]
    },
    {
      "cell_type": "code",
      "source": [
        "# cek args\n",
        "def cek (*args):\n",
        "  print(args)"
      ],
      "metadata": {
        "id": "TNqE073JA7UZ"
      },
      "execution_count": null,
      "outputs": []
    },
    {
      "cell_type": "code",
      "source": [
        "cek(1,2,3,4,5,6, 'fajri')"
      ],
      "metadata": {
        "colab": {
          "base_uri": "https://localhost:8080/"
        },
        "id": "uFDlSmDABJFU",
        "outputId": "88294ac3-c1ab-4030-82ba-e374d5406f19"
      },
      "execution_count": null,
      "outputs": [
        {
          "output_type": "stream",
          "name": "stdout",
          "text": [
            "(1, 2, 3, 4, 5, 6, 'fajri')\n"
          ]
        }
      ]
    },
    {
      "cell_type": "code",
      "source": [
        "# cek kwargs\n",
        "def cek_kwargs(**kwargs):\n",
        "  print(kwargs)"
      ],
      "metadata": {
        "id": "ivypvN-sBMaK"
      },
      "execution_count": null,
      "outputs": []
    },
    {
      "cell_type": "code",
      "source": [
        "# kwargs input banyak data dictionary\n",
        "cek_kwargs(nama='Fajri', umur='19')"
      ],
      "metadata": {
        "colab": {
          "base_uri": "https://localhost:8080/"
        },
        "id": "ZdqTxlGKBmzV",
        "outputId": "322467d3-3556-45f7-abc2-42f96e96124d"
      },
      "execution_count": null,
      "outputs": [
        {
          "output_type": "stream",
          "name": "stdout",
          "text": [
            "{'nama': 'Fajri', 'umur': '19'}\n"
          ]
        }
      ]
    },
    {
      "cell_type": "code",
      "source": [
        "def cek_berat(**kwargs):\n",
        "  if 'budi' in kwargs:\n",
        "    print('berat budi masuk ke kategori {}'.format(kwargs['budi']))\n",
        "  else:\n",
        "    print('budi tidak ada di database')"
      ],
      "metadata": {
        "id": "tdxV433qBuhe"
      },
      "execution_count": null,
      "outputs": []
    },
    {
      "cell_type": "code",
      "source": [
        "cek_berat(budi='kurus', jeni='gemuk')"
      ],
      "metadata": {
        "colab": {
          "base_uri": "https://localhost:8080/"
        },
        "id": "aES5ro28CktH",
        "outputId": "bc3f0a83-4594-4442-9839-a0dba9e4c54c"
      },
      "execution_count": null,
      "outputs": [
        {
          "output_type": "stream",
          "name": "stdout",
          "text": [
            "berat budi masuk ke kategori kurus\n"
          ]
        }
      ]
    },
    {
      "cell_type": "code",
      "source": [
        "# menggabungkan args dan kwargs\n",
        "def fungsiku(*args, **kwargs):\n",
        "  print('saya ingin membeli {} {} secara tunai'.format(args[0], kwargs['makanan']))"
      ],
      "metadata": {
        "id": "bpOqw-LLCo-H"
      },
      "execution_count": null,
      "outputs": []
    },
    {
      "cell_type": "code",
      "source": [
        "fungsiku(10, 40, 50, makanan='mie ayam', minuman='es teh')"
      ],
      "metadata": {
        "colab": {
          "base_uri": "https://localhost:8080/"
        },
        "id": "DWS4BuP6DNfS",
        "outputId": "fdf4c7f1-b40b-4d04-9754-6e0062734066"
      },
      "execution_count": null,
      "outputs": [
        {
          "output_type": "stream",
          "name": "stdout",
          "text": [
            "saya ingin membeli 10 mie ayam secara tunai\n"
          ]
        }
      ]
    },
    {
      "cell_type": "code",
      "source": [
        "# fungsi lambda\n",
        "x = lambda a,b : a + b"
      ],
      "metadata": {
        "id": "MgEKrZWhDWpq"
      },
      "execution_count": null,
      "outputs": []
    },
    {
      "cell_type": "code",
      "source": [
        "x(1,2)"
      ],
      "metadata": {
        "colab": {
          "base_uri": "https://localhost:8080/"
        },
        "id": "4NmyfIDlEso9",
        "outputId": "e29cf4a7-b4da-4d9e-fe14-bdad4d83ce83"
      },
      "execution_count": null,
      "outputs": [
        {
          "output_type": "execute_result",
          "data": {
            "text/plain": [
              "3"
            ]
          },
          "metadata": {},
          "execution_count": 92
        }
      ]
    },
    {
      "cell_type": "code",
      "source": [],
      "metadata": {
        "id": "tvLeibI8Et7V"
      },
      "execution_count": null,
      "outputs": []
    }
  ]
}